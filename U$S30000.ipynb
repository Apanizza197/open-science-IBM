{
 "cells": [
  {
   "cell_type": "code",
   "execution_count": 7,
   "id": "d62d2193",
   "metadata": {},
   "outputs": [],
   "source": [
    "import numpy as np\n",
    "import sys\n",
    "np.set_printoptions(threshold=sys.maxsize)"
   ]
  },
  {
   "cell_type": "code",
   "execution_count": 4,
   "id": "4f92ae9b",
   "metadata": {},
   "outputs": [],
   "source": [
    "pos = np.array([[1,1,0,0,0,0],[1,0,1,0,0,0],[1,0,0,1,0,0],[1,0,0,0,0,1],[0,1,1,0,0,0],[0,1,0,1,0,0],[0,1,0,0,1,0],[0,0,1,0,1,0],[0,0,1,0,0,1]])"
   ]
  },
  {
   "cell_type": "code",
   "execution_count": 68,
   "id": "973e88d7",
   "metadata": {},
   "outputs": [],
   "source": [
    "pos = np.array([[1,1,0],[1,0,1],[0,1,1]])"
   ]
  },
  {
   "cell_type": "code",
   "execution_count": null,
   "id": "87e89e10",
   "metadata": {},
   "outputs": [],
   "source": []
  },
  {
   "cell_type": "code",
   "execution_count": 16,
   "id": "82cf249f",
   "metadata": {},
   "outputs": [],
   "source": [
    "mapping = {0: 'I', 1: 'X'}\n",
    "arr_letras = np.where(pos == 0, mapping[0], mapping[1])\n"
   ]
  },
  {
   "cell_type": "code",
   "execution_count": 69,
   "id": "087e5bf8",
   "metadata": {},
   "outputs": [],
   "source": [
    "Z = np.matrix([[1,0],[0,-1]])\n",
    "X = np.matrix([[0,1],[1,0]])\n",
    "Y = np.matrix([[0,-1j],[1j,0]])\n",
    "I = np.matrix([[1,0],[0,1]])"
   ]
  },
  {
   "cell_type": "code",
   "execution_count": 75,
   "id": "601bc259",
   "metadata": {},
   "outputs": [],
   "source": [
    "q = pos.shape[1]\n",
    "pauli =[X,Y,Z]\n",
    "\n",
    "ham = np.zeros((2**q,2**q))+1j*np.zeros((2**q,2**q))\n",
    "for pau in pauli:\n",
    "    for po in pos:\n",
    "        tira = np.array([[1]])\n",
    "        for i in range(q):\n",
    "            tira =np.kron(tira, pau if po[i] ==1 else I)\n",
    "        ham += tira\n",
    "\n",
    "ham =ham.real        \n",
    "        "
   ]
  },
  {
   "cell_type": "code",
   "execution_count": 80,
   "id": "d7b47eb1",
   "metadata": {},
   "outputs": [
    {
     "data": {
      "text/plain": [
       "array([[ 3.,  0.,  0.,  0.,  0.,  0.,  0.,  0.],\n",
       "       [ 0., -1.,  2.,  0.,  2.,  0.,  0.,  0.],\n",
       "       [ 0.,  2., -1.,  0.,  2.,  0.,  0.,  0.],\n",
       "       [ 0.,  0.,  0., -1.,  0.,  2.,  2.,  0.],\n",
       "       [ 0.,  2.,  2.,  0., -1.,  0.,  0.,  0.],\n",
       "       [ 0.,  0.,  0.,  2.,  0., -1.,  2.,  0.],\n",
       "       [ 0.,  0.,  0.,  2.,  0.,  2., -1.,  0.],\n",
       "       [ 0.,  0.,  0.,  0.,  0.,  0.,  0.,  3.]])"
      ]
     },
     "execution_count": 80,
     "metadata": {},
     "output_type": "execute_result"
    }
   ],
   "source": [
    "ham"
   ]
  },
  {
   "cell_type": "code",
   "execution_count": 77,
   "id": "2a18966b",
   "metadata": {},
   "outputs": [],
   "source": [
    "a, v = np.linalg.eig(ham)"
   ]
  },
  {
   "cell_type": "code",
   "execution_count": 82,
   "id": "4755bf00",
   "metadata": {},
   "outputs": [
    {
     "data": {
      "text/plain": [
       "array([ 0.40824829,  0.57735027, -0.18312503,  0.14052544, -0.24782273,\n",
       "       -0.63449568,  0.        ,  0.        ])"
      ]
     },
     "execution_count": 82,
     "metadata": {},
     "output_type": "execute_result"
    }
   ],
   "source": [
    "v[3]"
   ]
  },
  {
   "cell_type": "code",
   "execution_count": 67,
   "id": "1e7207a8",
   "metadata": {},
   "outputs": [
    {
     "data": {
      "text/plain": [
       "1.012220641041958"
      ]
     },
     "execution_count": 67,
     "metadata": {},
     "output_type": "execute_result"
    }
   ],
   "source": [
    "np.linalg.norm(p[1][7])"
   ]
  },
  {
   "cell_type": "code",
   "execution_count": 62,
   "id": "3ca7c647",
   "metadata": {},
   "outputs": [
    {
     "data": {
      "text/plain": [
       "(array([-0.39 , -0.31 , -0.236, -0.211, -0.197, -0.125, -0.108, -0.092,\n",
       "        -0.073, -0.067, -0.063, -0.043, -0.041, -0.039, -0.033, -0.028,\n",
       "        -0.027, -0.023, -0.021, -0.008, -0.006, -0.005, -0.004,  0.   ,\n",
       "         0.001,  0.002,  0.007,  0.008,  0.011,  0.022,  0.032,  0.033,\n",
       "         0.046,  0.047,  0.049,  0.054,  0.057,  0.102,  0.123,  0.203,\n",
       "         0.231,  0.257,  0.265,  0.272,  0.387]),\n",
       " array([ 1,  1,  1,  1,  1,  1,  1,  1,  1,  1,  2,  1,  1,  1,  1,  1,  1,\n",
       "         2,  1,  1,  1,  1,  3, 12,  3,  2,  1,  1,  1,  1,  1,  1,  1,  1,\n",
       "         1,  2,  1,  1,  1,  1,  1,  1,  1,  1,  1], dtype=int64))"
      ]
     },
     "execution_count": 62,
     "metadata": {},
     "output_type": "execute_result"
    }
   ],
   "source": [
    "np.unique(p[1][6].round(3),return_counts=True)"
   ]
  },
  {
   "cell_type": "code",
   "execution_count": 33,
   "id": "9acca72b",
   "metadata": {},
   "outputs": [],
   "source": [
    "tira = np.array([[1]])"
   ]
  },
  {
   "cell_type": "code",
   "execution_count": 34,
   "id": "d7949d4a",
   "metadata": {},
   "outputs": [
    {
     "data": {
      "text/plain": [
       "5"
      ]
     },
     "execution_count": 34,
     "metadata": {},
     "output_type": "execute_result"
    }
   ],
   "source": [
    "pau if po[0] ==1 else i"
   ]
  },
  {
   "cell_type": "code",
   "execution_count": 30,
   "id": "e960fcea",
   "metadata": {},
   "outputs": [
    {
     "data": {
      "text/plain": [
       "array([[5]])"
      ]
     },
     "execution_count": 30,
     "metadata": {},
     "output_type": "execute_result"
    }
   ],
   "source": [
    "tira =np.kron(tira, pau if po[0] ==1 else i)\n",
    "tira"
   ]
  }
 ],
 "metadata": {
  "kernelspec": {
   "display_name": "Python 3 (ipykernel)",
   "language": "python",
   "name": "python3"
  },
  "language_info": {
   "codemirror_mode": {
    "name": "ipython",
    "version": 3
   },
   "file_extension": ".py",
   "mimetype": "text/x-python",
   "name": "python",
   "nbconvert_exporter": "python",
   "pygments_lexer": "ipython3",
   "version": "3.9.7"
  }
 },
 "nbformat": 4,
 "nbformat_minor": 5
}

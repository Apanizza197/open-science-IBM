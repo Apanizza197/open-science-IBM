{
 "cells": [
  {
   "cell_type": "code",
   "execution_count": 1,
   "id": "d62d2193",
   "metadata": {},
   "outputs": [],
   "source": [
    "import numpy as np\n",
    "import sys\n",
    "np.set_printoptions(threshold=sys.maxsize)"
   ]
  },
  {
   "cell_type": "code",
   "execution_count": 55,
   "id": "4f92ae9b",
   "metadata": {},
   "outputs": [],
   "source": [
    "pos = np.array([[1,1,0,0,0,0],[1,0,1,0,0,0],[1,0,0,1,0,0],[1,0,0,0,0,1],[0,1,1,0,0,0],[0,1,0,1,0,0],[0,1,0,0,1,0],[0,0,1,0,1,0],[0,0,1,0,0,1]])"
   ]
  },
  {
   "cell_type": "code",
   "execution_count": 100,
   "id": "973e88d7",
   "metadata": {},
   "outputs": [],
   "source": [
    "pos = np.array([[1,1,0],[1,0,1],[0,1,1]])"
   ]
  },
  {
   "cell_type": "code",
   "execution_count": 87,
   "id": "87e89e10",
   "metadata": {},
   "outputs": [],
   "source": [
    "pos = np.array([[1,1,0,0],[0,1,1,0],[0,0,1,1],[1,0,0,1]])"
   ]
  },
  {
   "cell_type": "code",
   "execution_count": 62,
   "id": "4fa72956",
   "metadata": {},
   "outputs": [],
   "source": [
    "pos = np.array([[1,1,0,0,0],[0,1,1,0,0],[0,0,1,1,0],[0,0,0,1,1],[1,0,0,0,1]])"
   ]
  },
  {
   "cell_type": "code",
   "execution_count": 70,
   "id": "e776b760",
   "metadata": {},
   "outputs": [],
   "source": [
    "pos = np.array([[1,1,0,0,0,0],[0,1,1,0,0,0],[0,0,1,1,0,0],[0,0,0,1,1,0],[0,0,0,0,1,1],[1,0,0,0,0,1]])"
   ]
  },
  {
   "cell_type": "code",
   "execution_count": 37,
   "id": "82cf249f",
   "metadata": {},
   "outputs": [],
   "source": [
    "mapping = {0: 'I', 1: 'X'}\n",
    "arr_letras = np.where(pos == 0, mapping[0], mapping[1])\n"
   ]
  },
  {
   "cell_type": "code",
   "execution_count": 38,
   "id": "087e5bf8",
   "metadata": {},
   "outputs": [],
   "source": [
    "Z = np.matrix([[1,0],[0,-1]])\n",
    "X = np.matrix([[0,1],[1,0]])\n",
    "Y = np.matrix([[0,-1j],[1j,0]])\n",
    "I = np.matrix([[1,0],[0,1]])"
   ]
  },
  {
   "cell_type": "code",
   "execution_count": 101,
   "id": "601bc259",
   "metadata": {},
   "outputs": [],
   "source": [
    "q = pos.shape[1]\n",
    "pauli =[X,Y,Z]\n",
    "\n",
    "ham = np.zeros((2**q,2**q))+1j*np.zeros((2**q,2**q))\n",
    "for pau in pauli:\n",
    "    for po in pos:\n",
    "        tira = np.array([[1]])\n",
    "        for i in range(q):\n",
    "            tira =np.kron(tira, pau if po[i] ==1 else I)\n",
    "        ham += tira\n",
    "\n",
    "ham =ham.real        \n",
    "        "
   ]
  },
  {
   "cell_type": "code",
   "execution_count": 102,
   "id": "d7b47eb1",
   "metadata": {},
   "outputs": [
    {
     "data": {
      "text/plain": [
       "array([[ 3.,  0.,  0.,  0.,  0.,  0.,  0.,  0.],\n",
       "       [ 0., -1.,  2.,  0.,  2.,  0.,  0.,  0.],\n",
       "       [ 0.,  2., -1.,  0.,  2.,  0.,  0.,  0.],\n",
       "       [ 0.,  0.,  0., -1.,  0.,  2.,  2.,  0.],\n",
       "       [ 0.,  2.,  2.,  0., -1.,  0.,  0.,  0.],\n",
       "       [ 0.,  0.,  0.,  2.,  0., -1.,  2.,  0.],\n",
       "       [ 0.,  0.,  0.,  2.,  0.,  2., -1.,  0.],\n",
       "       [ 0.,  0.,  0.,  0.,  0.,  0.,  0.,  3.]])"
      ]
     },
     "execution_count": 102,
     "metadata": {},
     "output_type": "execute_result"
    }
   ],
   "source": [
    "ham"
   ]
  },
  {
   "cell_type": "code",
   "execution_count": 103,
   "id": "2a18966b",
   "metadata": {},
   "outputs": [
    {
     "name": "stdout",
     "output_type": "stream",
     "text": [
      "[-3. -3. -3. -3.  3.  3.  3.  3.]\n"
     ]
    }
   ],
   "source": [
    "a, v = np.linalg.eigh(ham)\n",
    "print(a.round(3))"
   ]
  },
  {
   "cell_type": "code",
   "execution_count": 104,
   "id": "03e09ffd",
   "metadata": {},
   "outputs": [
    {
     "data": {
      "text/plain": [
       "array([[ 0.  ,  0.78, -0.2 ,  0.  , -0.59,  0.  ,  0.  ,  0.  ],\n",
       "       [ 0.  ,  0.  ,  0.  , -0.78,  0.  ,  0.2 ,  0.59,  0.  ],\n",
       "       [-0.  ,  0.23, -0.79,  0.  ,  0.57,  0.  ,  0.  ,  0.  ],\n",
       "       [ 0.  ,  0.  ,  0.  , -0.23,  0.  ,  0.79, -0.57,  0.  ],\n",
       "       [-0.  , -0.  , -0.  ,  0.58,  0.  ,  0.58,  0.58,  0.  ],\n",
       "       [ 0.  ,  0.58,  0.58,  0.  ,  0.58,  0.  ,  0.  ,  0.  ],\n",
       "       [ 1.  ,  0.  ,  0.  ,  0.  ,  0.  ,  0.  ,  0.  ,  0.  ],\n",
       "       [ 0.  ,  0.  ,  0.  ,  0.  ,  0.  ,  0.  ,  0.  ,  1.  ]])"
      ]
     },
     "execution_count": 104,
     "metadata": {},
     "output_type": "execute_result"
    }
   ],
   "source": [
    "v.T.round(2)"
   ]
  },
  {
   "cell_type": "code",
   "execution_count": 126,
   "id": "4755bf00",
   "metadata": {},
   "outputs": [
    {
     "name": "stdout",
     "output_type": "stream",
     "text": [
      "[0, 0, 0, 1, 0, 0, -1, 0]\n",
      "0.0\n"
     ]
    },
    {
     "data": {
      "text/plain": [
       "-2.9999999999999996"
      ]
     },
     "execution_count": 126,
     "metadata": {},
     "output_type": "execute_result"
    }
   ],
   "source": [
    "coso = [0, 0.78, -0.2, 0, -0.59, 0, 0, 0]\n",
    "coso = [0, 0, 0, -0.15, 0, 0.85, -0.7, 0]\n",
    "\n",
    "coso = [0, 0, 0, 1, 0, 0, -1, 0]\n",
    "\n",
    "# coso = [0, 0, 0, 0, 0, 0, 0, 0,\n",
    "#         0, 0, 1, 0, 0, 0, 0, 0]\n",
    "\n",
    "mas = np.array([1,1])/np.sqrt(2)\n",
    "menos = np.array([1,-1])/np.sqrt(2)\n",
    "\n",
    "eig_Y1 = np.array([-1,1.j])/np.sqrt(2)\n",
    "eig_Y2 = np.array([-1, -1.j])/np.sqrt(2)\n",
    "\n",
    "# coso = np.kron(np.kron(mas, menos), menos)\n",
    "print(coso)\n",
    "\n",
    "coso = coso/np.linalg.norm(coso)\n",
    "# coso = [0, 0, 0, 0, 0, 0, 0, 0,\n",
    "#         0, 0, 1, 0, 0, 0, 0, 0]\n",
    "print(sum(coso))\n",
    "\n",
    "np.dot(np.dot(coso, ham), coso)"
   ]
  },
  {
   "cell_type": "code",
   "execution_count": 50,
   "id": "9113346e",
   "metadata": {},
   "outputs": [
    {
     "data": {
      "text/plain": [
       "array([ 0.   ,  0.   ,  0.   , -0.   ,  0.   ,  0.054, -0.054, -0.   ,\n",
       "       -0.   ,  0.164, -0.164, -0.052, -0.   , -0.086, -0.14 , -0.   ,\n",
       "       -0.   , -0.367, -0.148, -0.053,  0.016,  0.066,  0.003,  0.   ,\n",
       "        0.499,  0.139,  0.049,  0.   ,  0.075,  0.   , -0.   ,  0.   ,\n",
       "        0.   ,  0.148,  0.367,  0.075, -0.016,  0.049,  0.139,  0.   ,\n",
       "       -0.499,  0.003,  0.066,  0.   , -0.053, -0.   ,  0.   ,  0.   ,\n",
       "       -0.   , -0.14 , -0.086, -0.   , -0.052, -0.   , -0.   ,  0.   ,\n",
       "        0.   ,  0.   ,  0.   ,  0.   , -0.   ,  0.   ,  0.   ,  0.   ])"
      ]
     },
     "execution_count": 50,
     "metadata": {},
     "output_type": "execute_result"
    }
   ],
   "source": [
    "v.T.round(3)[3]\n"
   ]
  },
  {
   "cell_type": "code",
   "execution_count": 19,
   "id": "1e7207a8",
   "metadata": {},
   "outputs": [
    {
     "name": "stdout",
     "output_type": "stream",
     "text": [
      "1.4142135614577958\n",
      "1.5783626958631942\n",
      "1.844994935582042\n",
      "1.48517821948149\n",
      "1.5351914124488664\n",
      "1.0301833547342385\n",
      "1.2740538628412061\n",
      "1.4415986112457329\n"
     ]
    }
   ],
   "source": [
    "psi = np.array([-8.46445714e-10+0.j, 5.26885074e-01+0.j,\n",
    "                -7.01863375e-11+0.j, -7.06024740e-01+0.j,\n",
    "                9.45704183e-10+0.j,  4.71584689e-01+0.j,\n",
    "                1.26724135e-09+0.j, -3.91032780e-02+0.j]).real\n",
    "np.linalg.norm(psi)\n",
    "\n",
    "for vec in v:\n",
    "    print(np.linalg.norm(vec - psi))"
   ]
  },
  {
   "cell_type": "code",
   "execution_count": 62,
   "id": "3ca7c647",
   "metadata": {},
   "outputs": [
    {
     "data": {
      "text/plain": [
       "(array([-0.39 , -0.31 , -0.236, -0.211, -0.197, -0.125, -0.108, -0.092,\n",
       "        -0.073, -0.067, -0.063, -0.043, -0.041, -0.039, -0.033, -0.028,\n",
       "        -0.027, -0.023, -0.021, -0.008, -0.006, -0.005, -0.004,  0.   ,\n",
       "         0.001,  0.002,  0.007,  0.008,  0.011,  0.022,  0.032,  0.033,\n",
       "         0.046,  0.047,  0.049,  0.054,  0.057,  0.102,  0.123,  0.203,\n",
       "         0.231,  0.257,  0.265,  0.272,  0.387]),\n",
       " array([ 1,  1,  1,  1,  1,  1,  1,  1,  1,  1,  2,  1,  1,  1,  1,  1,  1,\n",
       "         2,  1,  1,  1,  1,  3, 12,  3,  2,  1,  1,  1,  1,  1,  1,  1,  1,\n",
       "         1,  2,  1,  1,  1,  1,  1,  1,  1,  1,  1], dtype=int64))"
      ]
     },
     "execution_count": 62,
     "metadata": {},
     "output_type": "execute_result"
    }
   ],
   "source": [
    "np.unique(p[1][6].round(3),return_counts=True)"
   ]
  },
  {
   "cell_type": "code",
   "execution_count": 33,
   "id": "9acca72b",
   "metadata": {},
   "outputs": [],
   "source": [
    "tira = np.array([[1]])"
   ]
  },
  {
   "cell_type": "code",
   "execution_count": 34,
   "id": "d7949d4a",
   "metadata": {},
   "outputs": [
    {
     "data": {
      "text/plain": [
       "5"
      ]
     },
     "execution_count": 34,
     "metadata": {},
     "output_type": "execute_result"
    }
   ],
   "source": [
    "pau if po[0] ==1 else i"
   ]
  },
  {
   "cell_type": "code",
   "execution_count": 30,
   "id": "e960fcea",
   "metadata": {},
   "outputs": [
    {
     "data": {
      "text/plain": [
       "array([[5]])"
      ]
     },
     "execution_count": 30,
     "metadata": {},
     "output_type": "execute_result"
    }
   ],
   "source": [
    "tira =np.kron(tira, pau if po[0] ==1 else i)\n",
    "tira"
   ]
  }
 ],
 "metadata": {
  "kernelspec": {
   "display_name": "Python 3 (ipykernel)",
   "language": "python",
   "name": "python3"
  },
  "language_info": {
   "codemirror_mode": {
    "name": "ipython",
    "version": 3
   },
   "file_extension": ".py",
   "mimetype": "text/x-python",
   "name": "python",
   "nbconvert_exporter": "python",
   "pygments_lexer": "ipython3",
   "version": "3.10.9"
  }
 },
 "nbformat": 4,
 "nbformat_minor": 5
}

{
 "cells": [
  {
   "cell_type": "code",
   "execution_count": 1,
   "id": "d62d2193",
   "metadata": {},
   "outputs": [],
   "source": [
    "import numpy as np\n",
    "import scipy as sc\n",
    "from scipy.linalg import eigh\n",
    "import sys\n",
    "#from scipy.sparse.linalg import eigsh\n",
    "np.set_printoptions(threshold=sys.maxsize)"
   ]
  },
  {
   "cell_type": "markdown",
   "id": "572f6d68",
   "metadata": {},
   "source": [
    "### Generación de distintos grafos de conectividad"
   ]
  },
  {
   "cell_type": "code",
   "execution_count": 31,
   "id": "4f92ae9b",
   "metadata": {},
   "outputs": [],
   "source": [
    "# 6 vertices 9 aristas\n",
    "\n",
    "pos = np.array([[1,1,0,0,0,0],[1,0,1,0,0,0],[1,0,0,1,0,0],[1,0,0,0,0,1],[0,1,1,0,0,0],[0,1,0,1,0,0],[0,1,0,0,1,0],[0,0,1,0,1,0],[0,0,1,0,0,1]])\n",
    "\n",
    "\n"
   ]
  },
  {
   "cell_type": "code",
   "execution_count": 23,
   "id": "1ce34fe9",
   "metadata": {},
   "outputs": [],
   "source": [
    "# estrella de david\n",
    "\n",
    "nodo= [(0, 1),(1, 2),(2, 3),(3, 4),(4, 5),(5, 0),(0, 6),(1, 6),(1, 7),(2, 7),(2, 8),(3, 8),(3, 9),(4, 9),(4, 10),(5, 10),(5, 11),(0, 11)]\n",
    "\n",
    "def nodoarm(nodo):\n",
    "    graf = []\n",
    "    for ele in nodo:\n",
    "        zeros = np.zeros(12)\n",
    "        for pos in ele:\n",
    "            zeros[pos] = 1\n",
    "        graf.append(list(zeros))    \n",
    "    return np.array(graf)\n",
    "\n",
    "pos=nodoarm(nodo)"
   ]
  },
  {
   "cell_type": "code",
   "execution_count": 6,
   "id": "973e88d7",
   "metadata": {},
   "outputs": [],
   "source": [
    "# 3 vertices 3 aristas\n",
    "pos = np.array([[1,1,0],[1,0,1],[0,1,1]])\n",
    "\n",
    "# 6 vertices 6 aristas\n",
    "pos = np.array([[1,1,0,0,0,0],[0,1,1,0,0,0],[0,0,1,1,0,0],[0,0,0,1,1,0],[0,0,0,0,1,1],[1,0,0,0,0,1]])\n",
    "\n",
    "#pos = np.array([[1,1,0,0],[0,1,1,0],[0,0,1,1],[0,1,0,1],[1,0,1,0]])"
   ]
  },
  {
   "cell_type": "markdown",
   "id": "16d5ded7",
   "metadata": {},
   "source": [
    "### Generación de matrices de un qubit elementales"
   ]
  },
  {
   "cell_type": "code",
   "execution_count": 32,
   "id": "087e5bf8",
   "metadata": {},
   "outputs": [],
   "source": [
    "Z = np.matrix([[1,0],[0,-1]])\n",
    "X = np.matrix([[0,1],[1,0]])\n",
    "Y = np.matrix([[0,-1j],[1j,0]])\n",
    "I = np.matrix([[1,0],[0,1]])\n",
    "H = np.matrix([[1,1],[1,-1]])\n",
    "\n"
   ]
  },
  {
   "cell_type": "markdown",
   "id": "cf34f87e",
   "metadata": {},
   "source": [
    "### Armado del Hamiltoniano del modelo de heisenmerg $\\sum_{i,j} X_iX_j+Y_iY_j+Z_iZ_j$"
   ]
  },
  {
   "cell_type": "code",
   "execution_count": 33,
   "id": "601bc259",
   "metadata": {},
   "outputs": [],
   "source": [
    "q = pos.shape[1]\n",
    "pauli =[X,Y,Z]\n",
    "\n",
    "ham = np.zeros((2**q,2**q))+1j*np.zeros((2**q,2**q))\n",
    "for pau in pauli:\n",
    "    for po in pos:\n",
    "        tira = np.array([[1]])\n",
    "        for i in range(q):\n",
    "            tira =np.kron(tira, pau if po[i] ==1 else I)\n",
    "        ham += tira\n",
    "\n",
    "ham =ham.real #esto es para eliminar los 0j,  \n",
    "        "
   ]
  },
  {
   "cell_type": "markdown",
   "id": "c87a6345",
   "metadata": {},
   "source": [
    "### Obtención de valores y vectores propios del Hamiltoniano\n",
    "\n",
    "- a autovalores\n",
    "- v valores propios\n",
    "- am valor propio mínimo\n",
    "- vm vectores propios asociados a am"
   ]
  },
  {
   "cell_type": "code",
   "execution_count": 34,
   "id": "3b8e8c05",
   "metadata": {},
   "outputs": [],
   "source": [
    "(a,v) =eigh(ham)  #ojo los vectores propios son dados de forma columnas v[0] no es el vector propio asociado a a[0]\n",
    "\n",
    "v= v.T # ahora si v[0] es el vector propio asociado a a[0]\n",
    "am = a.min()\n",
    "\n",
    "vm = v[abs(a-am)<10e-5]"
   ]
  },
  {
   "cell_type": "code",
   "execution_count": 39,
   "id": "068a3a28",
   "metadata": {},
   "outputs": [
    {
     "data": {
      "text/plain": [
       "array([ 0.00000000e+00,  0.00000000e+00, -6.93889390e-18, -1.17946869e-02,\n",
       "        6.23354835e-18,  4.90936614e-02, -3.72989745e-02, -1.16226473e-15,\n",
       "        2.08166817e-17,  1.17792093e-01, -1.46913195e-01, -3.68023702e-02,\n",
       "       -8.05632609e-02, -1.45043191e-01, -1.54691975e-02, -2.69643993e-01,\n",
       "        0.00000000e+00, -2.54769546e-01, -1.39325950e-01,  1.60784731e-01,\n",
       "        4.72347167e-02,  1.60669403e-01,  7.37031840e-02,  8.60316496e-02,\n",
       "        4.56545143e-01, -1.57415410e-02, -3.69008138e-02,  8.29682654e-02,\n",
       "       -1.45200206e-01,  1.34863427e-01, -3.42193490e-02, -1.73472348e-18,\n",
       "        0.00000000e+00,  9.96784786e-02,  3.35332807e-01, -1.45200206e-01,\n",
       "        2.15338574e-02, -3.69008138e-02, -1.57415410e-02,  1.83612343e-01,\n",
       "       -3.46860779e-01,  7.37031840e-02,  1.60669403e-01,  8.60898601e-02,\n",
       "        1.60784731e-01, -6.32485324e-02,  6.31903219e-02,  2.71050543e-19,\n",
       "       -1.09684363e-01, -1.54691975e-02, -1.45043191e-01, -1.98053749e-01,\n",
       "       -3.68023702e-02, -5.18705112e-02, -1.97197330e-02,  4.60785923e-19,\n",
       "        8.18789481e-16,  9.25123998e-03,  1.97443831e-02,  2.71050543e-20,\n",
       "       -2.89956231e-02, -1.62630326e-19, -1.08420217e-19,  0.00000000e+00])"
      ]
     },
     "execution_count": 39,
     "metadata": {},
     "output_type": "execute_result"
    }
   ],
   "source": [
    "v[2]"
   ]
  },
  {
   "attachments": {},
   "cell_type": "markdown",
   "id": "e2cac423",
   "metadata": {},
   "source": [
    "###### Nota curiosa\n",
    "\n",
    "Si en vez de usar scipy se usa numpy para calcular los eigenvectors ((a,v) np.linalg.eigh(ham)) hay muchos errores numericos que terminan afectando el descubrimiento de los estados propios, es bastante viajero"
   ]
  },
  {
   "cell_type": "markdown",
   "id": "65878aec",
   "metadata": {},
   "source": [
    "### Escritura en base computacional de los estados propios"
   ]
  },
  {
   "cell_type": "code",
   "execution_count": 36,
   "id": "4a64f0f2",
   "metadata": {},
   "outputs": [],
   "source": [
    "\n",
    "def to_bin(v):\n",
    "    coef_bin = []\n",
    "    large = np.log2(len(v))\n",
    "    for i in range(len(v)):\n",
    "        if abs(v[i])> 1e-5:\n",
    "            py_binario = bin(i)[2:]\n",
    "            binario = '0'*int((large - len(py_binario)))+py_binario\n",
    "            coef_bin += [(binario,v[i])] \n",
    "    return coef_bin\n",
    "    \n"
   ]
  },
  {
   "cell_type": "code",
   "execution_count": 49,
   "id": "2196db68",
   "metadata": {},
   "outputs": [
    {
     "name": "stdout",
     "output_type": "stream",
     "text": [
      "('001001', 0.11779209276581781)\n",
      "('001010', -0.14691319529801428)\n",
      "('001100', -0.08056326094085253)\n",
      "('001101', -0.145043190504976)\n",
      "('001111', -0.26964399283072504)\n",
      "('010001', -0.25476954590012485)\n",
      "('010010', -0.13932595012536797)\n",
      "('010011', 0.16078473148696268)\n",
      "('010101', 0.16066940346342995)\n",
      "('010110', 0.07370318399219153)\n",
      "('010111', 0.08603164962429724)\n",
      "('011000', 0.4565451427914147)\n",
      "('011011', 0.08296826542511276)\n",
      "('011100', -0.14520020600688197)\n",
      "('011101', 0.1348634267393591)\n",
      "('100001', 0.09967847859088727)\n",
      "('100010', 0.3353328068409763)\n",
      "('100011', -0.14520020600688188)\n",
      "('100111', 0.1836123432064278)\n",
      "('101000', -0.34686077931836534)\n",
      "('101001', 0.07370318399219188)\n",
      "('101010', 0.16066940346342912)\n",
      "('101011', 0.08608986014053047)\n",
      "('101100', 0.16078473148696137)\n",
      "('101101', -0.0632485324398982)\n",
      "('101110', 0.06319032192366492)\n",
      "('110000', -0.10968436347304898)\n",
      "('110010', -0.14504319050497688)\n",
      "('110011', -0.198053748663024)\n",
      "('110101', -0.05187051118248661)\n"
     ]
    }
   ],
   "source": [
    "for coso in to_bin(v[2]):\n",
    "    if abs(coso[1]) > 0.05:\n",
    "        print(coso)"
   ]
  },
  {
   "cell_type": "code",
   "execution_count": 37,
   "id": "ca872d97",
   "metadata": {},
   "outputs": [
    {
     "name": "stdout",
     "output_type": "stream",
     "text": [
      "3\n",
      "3\n",
      "3\n",
      "3\n",
      "3\n",
      "3\n",
      "3\n",
      "3\n",
      "3\n",
      "3\n",
      "3\n",
      "3\n",
      "3\n",
      "3\n"
     ]
    }
   ],
   "source": [
    "bin_v = to_bin(vm[0])\n",
    "\n",
    "for i in bin_v:\n",
    "    sum = 0\n",
    "    for j in i[0]:\n",
    "        sum += int(j)\n",
    "    if sum != 6:\n",
    "        print(sum)\n",
    "\n",
    "\n",
    "\n"
   ]
  },
  {
   "cell_type": "code",
   "execution_count": 14,
   "id": "d4e125d0",
   "metadata": {},
   "outputs": [
    {
     "name": "stdout",
     "output_type": "stream",
     "text": [
      "['111000', '110100', '110010', '110001', '101100', '101010', '101001', '100110', '100101', '100011', '011100', '011010', '011001', '010110', '010101', '010011', '001110', '001101', '001011', '000111']\n"
     ]
    }
   ],
   "source": [
    "# python code for the above approach\n",
    "lista = []\n",
    "# Recursive function that prints\n",
    "# all strings of N length with equal 1's and 0's\n",
    "def binaryNum(n, s, ones, zeros):\n",
    "\n",
    "\t# String s contains the output to be printed\n",
    "\t# ones stores the frequency of 1's\n",
    "\t# zeros stores the frequency of 0's\n",
    "\t# Base Condition: When the length of string s\n",
    "\t# becomes N\n",
    "\tif (len(s) == n):\n",
    "\t\tlista.append(s)\n",
    "\t\treturn\n",
    "\n",
    "\t# If frequency of 1's is less than N/2 then\n",
    "\t# add 1 to the string and increment ones\n",
    "\tif (ones < n / 2):\n",
    "\t\tbinaryNum(n, s + \"1\", ones + 1, zeros)\n",
    "\n",
    "\t# If frequency of 0's is less than N/2 then\n",
    "\t# add 0 to the string and increment zeros\n",
    "\tif (zeros < n / 2):\n",
    "\t\tbinaryNum(n, s + \"0\", ones, zeros + 1)\n",
    "\n",
    "# Driver Code\n",
    "\n",
    "s = \"\"\n",
    "binaryNum(6, s, 0, 0)\n",
    "print(lista)\n",
    "\n",
    "# This code is contributed by rakeshsahni\n"
   ]
  },
  {
   "cell_type": "code",
   "execution_count": 21,
   "id": "d5107ef1",
   "metadata": {},
   "outputs": [],
   "source": [
    "sum = [0, 0, 0, 0, 0, 0, \n",
    "       0, 0, 0, 0, 0, 0]\n",
    "\n",
    "for i in bin_v:\n",
    "\n",
    "    for j in range(len(i[0])):\n",
    "        sum[j] += int(i[0][j])\n",
    "\n"
   ]
  },
  {
   "cell_type": "code",
   "execution_count": 16,
   "id": "2af63dd8",
   "metadata": {},
   "outputs": [
    {
     "data": {
      "text/plain": [
       "0"
      ]
     },
     "execution_count": 16,
     "metadata": {},
     "output_type": "execute_result"
    }
   ],
   "source": [
    "present = []\n",
    "for i in bin_v:\n",
    "    present.append(i[0])\n",
    "\n",
    "c = [x for x in lista if x not in present]\n",
    "len(c)\n"
   ]
  },
  {
   "cell_type": "code",
   "execution_count": 15,
   "id": "ecc8eaf3",
   "metadata": {},
   "outputs": [],
   "source": [
    "import scipy as sc\n",
    "from scipy.linalg import eigh"
   ]
  },
  {
   "cell_type": "code",
   "execution_count": 18,
   "id": "85b67796",
   "metadata": {},
   "outputs": [
    {
     "ename": "NameError",
     "evalue": "name 'eigsh' is not defined",
     "output_type": "error",
     "traceback": [
      "\u001b[1;31m---------------------------------------------------------------------------\u001b[0m",
      "\u001b[1;31mNameError\u001b[0m                                 Traceback (most recent call last)",
      "Cell \u001b[1;32mIn[18], line 1\u001b[0m\n\u001b[1;32m----> 1\u001b[0m (a,b) \u001b[39m=\u001b[39meigsh(hams)\n",
      "\u001b[1;31mNameError\u001b[0m: name 'eigsh' is not defined"
     ]
    }
   ],
   "source": [
    "(a,b) =eigsh(hams)"
   ]
  },
  {
   "cell_type": "code",
   "execution_count": 19,
   "id": "b3b60c1a",
   "metadata": {},
   "outputs": [],
   "source": [
    "hams= sc.sparse.csr_matrix(ham)"
   ]
  }
 ],
 "metadata": {
  "kernelspec": {
   "display_name": "Python 3 (ipykernel)",
   "language": "python",
   "name": "python3"
  },
  "language_info": {
   "codemirror_mode": {
    "name": "ipython",
    "version": 3
   },
   "file_extension": ".py",
   "mimetype": "text/x-python",
   "name": "python",
   "nbconvert_exporter": "python",
   "pygments_lexer": "ipython3",
   "version": "3.10.9"
  }
 },
 "nbformat": 4,
 "nbformat_minor": 5
}

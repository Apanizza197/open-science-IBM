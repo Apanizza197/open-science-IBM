{
 "cells": [
  {
   "cell_type": "code",
   "execution_count": 1,
   "metadata": {},
   "outputs": [
    {
     "name": "stdout",
     "output_type": "stream",
     "text": [
      "[[ 3.  0.  0.  0.  0.  0.  0.  0.]\n",
      " [ 0. -1.  2.  0.  2.  0.  0.  0.]\n",
      " [ 0.  2. -1.  0.  2.  0.  0.  0.]\n",
      " [ 0.  0.  0. -1.  0.  2.  2.  0.]\n",
      " [ 0.  2.  2.  0. -1.  0.  0.  0.]\n",
      " [ 0.  0.  0.  2.  0. -1.  2.  0.]\n",
      " [ 0.  0.  0.  2.  0.  2. -1.  0.]\n",
      " [ 0.  0.  0.  0.  0.  0.  0.  3.]]\n"
     ]
    }
   ],
   "source": [
    "import numpy as np\n",
    "\n",
    "def kron(*matrices):\n",
    "    result = matrices[0]\n",
    "    for i in range(1, len(matrices)):\n",
    "        result = np.kron(result, matrices[i])\n",
    "    return result\n",
    "\n",
    "X = np.matrix([[0, 1], [1, 0]])\n",
    "Y = np.matrix([[0, -1j], [1j, 0]])\n",
    "Z = np.matrix([[1, 0], [0, -1]])\n",
    "I = np.eye(2)\n",
    "\n",
    "hamiltonian = 0\n",
    "paulis = [X, Y, Z]\n",
    "\n",
    "for pau in paulis:\n",
    "    hamiltonian = hamiltonian + kron(pau, I, pau) + kron(pau, pau, I) + kron(I, pau, pau)\n",
    "\n",
    "print(hamiltonian.real)\n",
    "\n"
   ]
  },
  {
   "cell_type": "code",
   "execution_count": 6,
   "metadata": {},
   "outputs": [
    {
     "name": "stdout",
     "output_type": "stream",
     "text": [
      "1.  ['II', 'ZI', '-iYY']\n",
      "2.  ['iXI']\n",
      "3.  ['iXI', 'iZZ']\n",
      "4.  ['YZ', '-iIX']\n"
     ]
    }
   ],
   "source": []
  }
 ],
 "metadata": {
  "kernelspec": {
   "display_name": "matrices",
   "language": "python",
   "name": "python3"
  },
  "language_info": {
   "codemirror_mode": {
    "name": "ipython",
    "version": 3
   },
   "file_extension": ".py",
   "mimetype": "text/x-python",
   "name": "python",
   "nbconvert_exporter": "python",
   "pygments_lexer": "ipython3",
   "version": "3.10.9"
  },
  "orig_nbformat": 4
 },
 "nbformat": 4,
 "nbformat_minor": 2
}

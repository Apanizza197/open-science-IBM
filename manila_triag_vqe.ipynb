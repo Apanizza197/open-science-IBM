{
 "cells": [
  {
   "cell_type": "markdown",
   "id": "7c9e1b00",
   "metadata": {},
   "source": [
    "# Lattices\n",
    "\n",
    "We will evolve from simple lattices to the Kagome Lattice studying the behaviour of them."
   ]
  },
  {
   "cell_type": "code",
   "execution_count": 1,
   "id": "fb3b2e13-9651-49eb-9f8a-0012d3fb21ed",
   "metadata": {
    "tags": []
   },
   "outputs": [],
   "source": [
    "import numpy as np\n",
    "\n",
    "from time import time\n",
    "\n",
    "import matplotlib.pyplot as plt\n",
    "plt.rcParams.update({\"font.size\": 16})  # enlarge matplotlib fonts\n",
    "\n",
    "TOKEN = \"TOKEN DE LA CUENTA\""
   ]
  },
  {
   "cell_type": "code",
   "execution_count": 2,
   "id": "3d657127",
   "metadata": {},
   "outputs": [
    {
     "name": "stdout",
     "output_type": "stream",
     "text": [
      "1922e96b1d747709e0c776db6e41619a4239c5f854c2052ded92599219fe9683cef168d0c8a4898b0d38223e8bc8de8c679b6a7f72db97db239c63cf436d8bfa\n"
     ]
    }
   ],
   "source": [
    "import os\n",
    "from dotenv import load_dotenv\n",
    "\n",
    "load_dotenv()\n",
    "\n",
    "TOKEN = os.getenv('TOKEN')\n",
    "print(TOKEN)"
   ]
  },
  {
   "cell_type": "code",
   "execution_count": 3,
   "id": "3565f61a-2fa8-4af8-83d9-5a8c8679ccf7",
   "metadata": {
    "tags": []
   },
   "outputs": [],
   "source": [
    "import rustworkx as rx\n",
    "\n",
    "from qiskit_nature.problems.second_quantization.lattice import Lattice\n",
    "\n",
    "# Custom Heisenberg couplings\n",
    "import sys\n",
    "sys.path.append(r'.')  # may be needed if running notebook on a cloud service\n",
    "from heisenberg_model import HeisenbergModel"
   ]
  },
  {
   "cell_type": "markdown",
   "id": "6135dd01",
   "metadata": {},
   "source": [
    "### Triangular lattice"
   ]
  },
  {
   "cell_type": "code",
   "execution_count": 4,
   "id": "5839d6d3-ee8a-4d01-9af4-e654ae915778",
   "metadata": {
    "tags": []
   },
   "outputs": [
    {
     "data": {
      "image/png": "[encoded data removed]",
      "text/plain": [
       "<Figure size 640x480 with 1 Axes>"
      ]
     },
     "metadata": {},
     "output_type": "display_data"
    }
   ],
   "source": [
    "# Triangular unit cell\n",
    "num_sites = 3\n",
    "# Edge weight\n",
    "t = 1.0\n",
    "\n",
    "# Generate graph of kagome unit cell\n",
    "# Start by defining all the edges\n",
    "graph = rx.PyGraph(multigraph=False)\n",
    "graph.add_nodes_from(range(num_sites))\n",
    "edge_list = [\n",
    "    (0, 1, t),\n",
    "    (1, 2, t),\n",
    "    (0, 2, t)\n",
    "]\n",
    "# Generate graph from the list of edges\n",
    "graph.add_edges_from(edge_list)\n",
    "\n",
    "# Make a Lattice from graph\n",
    "triangular_unit_cell = Lattice(graph)\n",
    "\n",
    "# Draw Lattice\n",
    "triangular_unit_cell.draw(style={'node_color':'purple'})\n",
    "# plt.savefig('kagome_unit_cell.png')\n",
    "plt.show()"
   ]
  },
  {
   "cell_type": "code",
   "execution_count": 5,
   "id": "b63edd90-b02d-4c6b-8d9d-3692e05feec4",
   "metadata": {
    "tags": []
   },
   "outputs": [],
   "source": [
    "from qiskit_nature.mappers.second_quantization import LogarithmicMapper"
   ]
  },
  {
   "cell_type": "code",
   "execution_count": 6,
   "id": "2d0f1fa1-ad52-4c82-bc10-b971b227b8ec",
   "metadata": {
    "tags": []
   },
   "outputs": [
    {
     "data": {
      "text/plain": [
       "PauliSumOp(SparsePauliOp(['ZZI', 'ZIZ', 'IZZ', 'YYI', 'YIY', 'IYY', 'XXI', 'XIX', 'IXX'],\n",
       "              coeffs=[1.+0.j, 1.+0.j, 1.+0.j, 1.+0.j, 1.+0.j, 1.+0.j, 1.+0.j, 1.+0.j, 1.+0.j]), coeff=1)"
      ]
     },
     "execution_count": 6,
     "metadata": {},
     "output_type": "execute_result"
    }
   ],
   "source": [
    "# Build Hamiltonian from graph edges\n",
    "heis = HeisenbergModel.uniform_parameters(\n",
    "    lattice=triangular_unit_cell,\n",
    "    uniform_interaction=1.0,  # same spin-spin interaction weight as used in graph\n",
    "    uniform_onsite_potential=0.0,  # No singe site external field\n",
    ")\n",
    "\n",
    "# The Lattice needs an explicit mapping to the qubit states.\n",
    "# We map 1 qubit for 1 spin-1/2 particle using the LogarithmicMapper\n",
    "log_mapper = LogarithmicMapper()\n",
    "# Multiply by factor of 4 to account for (1/2)^2 terms from spin operators in the HeisenbergModel\n",
    "ham = 4 * log_mapper.map(heis.second_q_ops().simplify())\n",
    "# Print Hamiltonian to check it's what we expect.\n",
    "# There are 18 edges and 3 terms per edge (XX, YY, and ZZ),\n",
    "# so there should be 54 equally weighted terms.\n",
    "ham"
   ]
  },
  {
   "cell_type": "code",
   "execution_count": 7,
   "id": "f7bf1d65-0883-4180-985c-bfa88b47e334",
   "metadata": {
    "tags": []
   },
   "outputs": [
    {
     "name": "stdout",
     "output_type": "stream",
     "text": [
      "[-3. -3. -3.]\n"
     ]
    }
   ],
   "source": [
    "from qiskit.algorithms import NumPyEigensolver\n",
    "\n",
    "# find the first three (k=3) eigenvalues\n",
    "exact_solver = NumPyEigensolver(k=3)\n",
    "exact_result = exact_solver.compute_eigenvalues(ham)\n",
    "print(exact_result.eigenvalues)\n",
    "\n",
    "# Save ground state energy for later\n",
    "gs_energy = np.round(exact_result.eigenvalues[0], 4)"
   ]
  },
  {
   "cell_type": "markdown",
   "id": "b7dc18ef-d6b7-4594-b7ea-a93f922f9997",
   "metadata": {},
   "source": [
    "### Running VQE\n"
   ]
  },
  {
   "cell_type": "code",
   "execution_count": 8,
   "id": "45fc1701-e9b9-4c83-b326-7d897cfd68d7",
   "metadata": {
    "tags": []
   },
   "outputs": [],
   "source": [
    "from qiskit import QuantumCircuit, transpile\n",
    "from qiskit.circuit import Parameter\n",
    "\n",
    "from qiskit_ibm_runtime import (QiskitRuntimeService, Session,\n",
    "                                Estimator as RuntimeEstimator)\n",
    "from qiskit import Aer\n",
    "\n",
    "# Save an IBM Quantum account. See docs for credential security warning\n",
    "# https://github.com/Qiskit/qiskit-ibm-runtime/tree/stable/0.7#saving-account-on-disk\n",
    "QiskitRuntimeService.save_account(channel=\"ibm_quantum\", token=TOKEN,\n",
    "                                  overwrite = True)\n",
    "service = QiskitRuntimeService(channel='ibm_quantum')"
   ]
  },
  {
   "cell_type": "code",
   "execution_count": 9,
   "id": "1a7a6967-4aee-4ece-a521-34cab047ca75",
   "metadata": {
    "tags": []
   },
   "outputs": [],
   "source": [
    "# Doc for loading IBMQ account https://quantum-computing.ibm.com/lab/docs/iql/manage/account/ibmq#the-account\n",
    "# IBMQ.save_account(\"1922e96b1d747709e0c776db6e41619a4239c5f854c2052ded92599219fe9683cef168d0c8a4898b0d38223e8bc8de8c679b6a7f72db97db239c63cf436d8bfa\")\n",
    "# IBMQ.load_account() # Load account from disk\n",
    "# provider = IBMQ.get_provider(hub='ibm-q-community', group='ibmquantumawards', project='open-science-22')\n",
    "\n",
    "# Real backend; needed for transpilation later on\n",
    "# guadalupe = provider.get_kbackend(\"ibmq_guadalupe\")\n",
    "\n",
    "# Get fake backend if you like\n",
    "from qiskit.providers.fake_provider import FakeManila\n",
    "\n",
    "# Noisy simulator backend\n",
    "noisy_sim = FakeManila()\n",
    "guadalupe = noisy_sim"
   ]
  },
  {
   "cell_type": "code",
   "execution_count": 10,
   "id": "22017474-5890-44cd-821c-22ca1b143d6b",
   "metadata": {
    "tags": []
   },
   "outputs": [
    {
     "data": {
      "image/png": "[encoded data removed]",
      "text/plain": [
       "<Figure size 640x480 with 1 Axes>"
      ]
     },
     "metadata": {},
     "output_type": "display_data"
    }
   ],
   "source": [
    "\n",
    "# Triangular unit cell\n",
    "num_qubits = 5\n",
    "# Edge weight\n",
    "t = 1.0\n",
    "\n",
    "# Generate graph of kagome unit cell\n",
    "# Start by defining all the edges\n",
    "graph_16 = rx.PyGraph(multigraph=False)\n",
    "graph_16.add_nodes_from(range(num_qubits))\n",
    "edge_list = [\n",
    "    (2, 3, t),\n",
    "    (2, 4, t),\n",
    "    (3, 4, t)\n",
    "]\n",
    "# Generate graph from the list of edges\n",
    "graph_16.add_edges_from(edge_list)\n",
    "\n",
    "# Make a Lattice from graph\n",
    "triag_unit_cell_16 = Lattice(graph_16)\n",
    "\n",
    "# Draw Lattice and include labels to check we exclude the right spins\n",
    "# Specify node locations for better visualizations\n",
    "\n",
    "\n",
    "\n",
    "triag_unit_cell_16.draw(style={'with_labels':True, 'font_color':'white', 'node_color':'purple'})\n",
    "plt.show()"
   ]
  },
  {
   "cell_type": "code",
   "execution_count": 11,
   "id": "a44d6279-a630-4e15-859c-a68dfbee6550",
   "metadata": {
    "tags": []
   },
   "outputs": [
    {
     "data": {
      "text/plain": [
       "PauliSumOp(SparsePauliOp(['ZZIII', 'ZIZII', 'IZZII', 'YYIII', 'YIYII', 'IYYII', 'XXIII', 'XIXII', 'IXXII'],\n",
       "              coeffs=[1.+0.j, 1.+0.j, 1.+0.j, 1.+0.j, 1.+0.j, 1.+0.j, 1.+0.j, 1.+0.j, 1.+0.j]), coeff=1)"
      ]
     },
     "execution_count": 11,
     "metadata": {},
     "output_type": "execute_result"
    }
   ],
   "source": [
    "# Build Hamiltonian from graph edges\n",
    "heis_16 = HeisenbergModel.uniform_parameters(\n",
    "    lattice=triag_unit_cell_16,\n",
    "    uniform_interaction=t,\n",
    "    uniform_onsite_potential=0.0,  # No singe site external field\n",
    ")\n",
    "\n",
    "# Map from SpinOp to qubits just as before.\n",
    "log_mapper = LogarithmicMapper()\n",
    "ham_16 = 4 * log_mapper.map(heis_16.second_q_ops().simplify())\n",
    "# Print Hamiltonian to check it's what we expect:\n",
    "# 18 ZZ, 18 YY, and 18 XX terms over 16 qubits instead of over 12 qubits\n",
    "ham_16"
   ]
  },
  {
   "cell_type": "markdown",
   "id": "f94f6997-44ab-43c8-ac8f-a2d58c555a22",
   "metadata": {},
   "source": [
    "## 2-3 Define an ansatz\n",
    "Crafting the ansatz is critical to VQE. You may use a prebuilt ansatz from the [qiskit circuit library](https://qiskit.org/documentation/apidoc/circuit_library.html#n-local-circuits). You may also make your own custom ansatz. Keep in mind that a custom ansatz should have no measurement gates at the end and the circuit parameters are defined by using `Parameter()` [objects](https://qiskit.org/documentation/stubs/qiskit.circuit.Parameter.html). We've demonstrated both options below. The ansatz can be defined over 12 qubits without needed to inflate it to 16 qubits at this point. The transpiler will take care of that later on.\n",
    "\n",
    "Here's an example using `EfficientSU2()` to generate an ansatz"
   ]
  },
  {
   "cell_type": "code",
   "execution_count": 12,
   "id": "ad4e1ef0-3880-49f7-88f2-7763dd438068",
   "metadata": {
    "tags": []
   },
   "outputs": [],
   "source": [
    "from qiskit.circuit.library import EfficientSU2\n",
    "from ansatz import *\n"
   ]
  },
  {
   "cell_type": "code",
   "execution_count": 13,
   "id": "4a4cbe59-08d1-4175-bd23-3ebb8a9cd620",
   "metadata": {
    "tags": []
   },
   "outputs": [
    {
     "data": {
      "text/html": [
       "<pre style=\"word-wrap: normal;white-space: pre;background: #fff0;line-height: 1.1;font-family: &quot;Courier New&quot;,Courier,monospace\">     ┌─────────┐     ┌─────────┐                ┌─────────┐                »\n",
       "q_0: ┤ Ry(θ_0) ├──■──┤ Ry(θ_3) ├─────────────■──┤ Ry(θ_6) ├─────────────■──»\n",
       "     ├─────────┤┌─┴─┐└─────────┘┌─────────┐┌─┴─┐└─────────┘┌─────────┐┌─┴─┐»\n",
       "q_1: ┤ Ry(θ_1) ├┤ X ├─────■─────┤ Ry(θ_4) ├┤ X ├─────■─────┤ Ry(θ_7) ├┤ X ├»\n",
       "     ├─────────┤└───┘   ┌─┴─┐   ├─────────┤└───┘   ┌─┴─┐   ├─────────┤└───┘»\n",
       "q_2: ┤ Ry(θ_2) ├────────┤ X ├───┤ Ry(θ_5) ├────────┤ X ├───┤ Ry(θ_8) ├─────»\n",
       "     └─────────┘        └───┘   └─────────┘        └───┘   └─────────┘     »\n",
       "«     ┌─────────┐            \n",
       "«q_0: ┤ Ry(θ_9) ├────────────\n",
       "«     └─────────┘┌──────────┐\n",
       "«q_1: ─────■─────┤ Ry(θ_10) ├\n",
       "«        ┌─┴─┐   ├──────────┤\n",
       "«q_2: ───┤ X ├───┤ Ry(θ_11) ├\n",
       "«        └───┘   └──────────┘</pre>"
      ],
      "text/plain": [
       "     ┌─────────┐     ┌─────────┐                ┌─────────┐                »\n",
       "q_0: ┤ Ry(θ_0) ├──■──┤ Ry(θ_3) ├─────────────■──┤ Ry(θ_6) ├─────────────■──»\n",
       "     ├─────────┤┌─┴─┐└─────────┘┌─────────┐┌─┴─┐└─────────┘┌─────────┐┌─┴─┐»\n",
       "q_1: ┤ Ry(θ_1) ├┤ X ├─────■─────┤ Ry(θ_4) ├┤ X ├─────■─────┤ Ry(θ_7) ├┤ X ├»\n",
       "     ├─────────┤└───┘   ┌─┴─┐   ├─────────┤└───┘   ┌─┴─┐   ├─────────┤└───┘»\n",
       "q_2: ┤ Ry(θ_2) ├────────┤ X ├───┤ Ry(θ_5) ├────────┤ X ├───┤ Ry(θ_8) ├─────»\n",
       "     └─────────┘        └───┘   └─────────┘        └───┘   └─────────┘     »\n",
       "«     ┌─────────┐            \n",
       "«q_0: ┤ Ry(θ_9) ├────────────\n",
       "«     └─────────┘┌──────────┐\n",
       "«q_1: ─────■─────┤ Ry(θ_10) ├\n",
       "«        ┌─┴─┐   ├──────────┤\n",
       "«q_2: ───┤ X ├───┤ Ry(θ_11) ├\n",
       "«        └───┘   └──────────┘"
      ]
     },
     "execution_count": 13,
     "metadata": {},
     "output_type": "execute_result"
    }
   ],
   "source": [
    "# Construct ansatz from qiskit circuit library functions\n",
    "# See docs for full details\n",
    "\n",
    "# We will try the three custom ansatz and use EfficientSU2 as control\n",
    "# ansatz = EfficientSU2(3, entanglement='linear', reps=3, skip_final_rotation_layer=True).decompose()\n",
    "# ansatz.draw(fold=300)\n",
    "\n",
    "ansatz = create_ansatz_2(3, 3)\n",
    "ansatz.draw()"
   ]
  },
  {
   "cell_type": "markdown",
   "id": "bf77fa73-acdf-4b9f-8808-8eb7284512eb",
   "metadata": {},
   "source": [
    "Here's an example of building a custom ansatz. We'll continue using this one for the rest of the notebook."
   ]
  },
  {
   "cell_type": "markdown",
   "id": "bc27992c-3d55-47d1-a767-208bbf0334fe",
   "metadata": {},
   "source": [
    "### Match qubit layout\n",
    "The ansatz is currently defined over 12 qubits, but it will be executed on guadalupe which has 16 qubits. To make the ansatz compatible with guadalupe and the inflated Hamiltonian, we can specify the qubit layout on the real device using the transpiler (shown below). We exclude the four qubits with fewest neighbors."
   ]
  },
  {
   "cell_type": "code",
   "execution_count": 14,
   "id": "66c92338-eaaa-49ca-b369-baa0130583f1",
   "metadata": {
    "tags": []
   },
   "outputs": [
    {
     "name": "stdout",
     "output_type": "stream",
     "text": [
      "number and type of gates in the cirucit: OrderedDict([('sx', 24), ('rz', 24), ('cx', 6)])\n",
      "number of parameters in the circuit: 12\n"
     ]
    },
    {
     "data": {
      "text/html": [
       "<pre style=\"word-wrap: normal;white-space: pre;background: #fff0;line-height: 1.1;font-family: &quot;Courier New&quot;,Courier,monospace\">                                                                                                                                                                                                                                            \n",
       "ancilla_0 -> 0 ─────────────────────────────────────────────────────────────────────────────────────────────────────────────────────────────────────────────────────────────────────────────────────────────────────────────────────────────\n",
       "                                                                                                                                                                                                                                            \n",
       "ancilla_1 -> 1 ─────────────────────────────────────────────────────────────────────────────────────────────────────────────────────────────────────────────────────────────────────────────────────────────────────────────────────────────\n",
       "               ┌────┐┌─────────────┐┌────┐┌────────┐     ┌────┐┌─────────────┐     ┌────┐    ┌────────┐               ┌────┐┌─────────────┐     ┌────┐    ┌────────┐               ┌────┐┌─────────────┐     ┌────┐     ┌────────┐          \n",
       "      q_0 -> 2 ┤ √X ├┤ Rz(θ_0 + π) ├┤ √X ├┤ Rz(3π) ├──■──┤ √X ├┤ Rz(θ_3 + π) ├─────┤ √X ├────┤ Rz(3π) ├────────────■──┤ √X ├┤ Rz(θ_6 + π) ├─────┤ √X ├────┤ Rz(3π) ├────────────■──┤ √X ├┤ Rz(θ_9 + π) ├─────┤ √X ├─────┤ Rz(3π) ├──────────\n",
       "               ├────┤├─────────────┤├────┤├────────┤┌─┴─┐└────┘└────┬────┬───┘┌────┴────┴───┐└─┬────┬─┘┌────────┐┌─┴─┐└────┘└────┬────┬───┘┌────┴────┴───┐└─┬────┬─┘┌────────┐┌─┴─┐└────┘└────┬────┬───┘┌────┴────┴────┐└─┬────┬─┘┌────────┐\n",
       "      q_1 -> 3 ┤ √X ├┤ Rz(θ_1 + π) ├┤ √X ├┤ Rz(3π) ├┤ X ├──■────────┤ √X ├────┤ Rz(θ_4 + π) ├──┤ √X ├──┤ Rz(3π) ├┤ X ├──■────────┤ √X ├────┤ Rz(θ_7 + π) ├──┤ √X ├──┤ Rz(3π) ├┤ X ├──■────────┤ √X ├────┤ Rz(θ_10 + π) ├──┤ √X ├──┤ Rz(3π) ├\n",
       "               ├────┤├─────────────┤├────┤├────────┤└───┘┌─┴─┐      ├────┤    ├─────────────┤  ├────┤  ├────────┤└───┘┌─┴─┐      ├────┤    ├─────────────┤  ├────┤  ├────────┤└───┘┌─┴─┐      ├────┤    ├──────────────┤  ├────┤  ├────────┤\n",
       "      q_2 -> 4 ┤ √X ├┤ Rz(θ_2 + π) ├┤ √X ├┤ Rz(3π) ├─────┤ X ├──────┤ √X ├────┤ Rz(θ_5 + π) ├──┤ √X ├──┤ Rz(3π) ├─────┤ X ├──────┤ √X ├────┤ Rz(θ_8 + π) ├──┤ √X ├──┤ Rz(3π) ├─────┤ X ├──────┤ √X ├────┤ Rz(θ_11 + π) ├──┤ √X ├──┤ Rz(3π) ├\n",
       "               └────┘└─────────────┘└────┘└────────┘     └───┘      └────┘    └─────────────┘  └────┘  └────────┘     └───┘      └────┘    └─────────────┘  └────┘  └────────┘     └───┘      └────┘    └──────────────┘  └────┘  └────────┘</pre>"
      ],
      "text/plain": [
       "                                                                                                                                                                                                                                            \n",
       "ancilla_0 -> 0 ─────────────────────────────────────────────────────────────────────────────────────────────────────────────────────────────────────────────────────────────────────────────────────────────────────────────────────────────\n",
       "                                                                                                                                                                                                                                            \n",
       "ancilla_1 -> 1 ─────────────────────────────────────────────────────────────────────────────────────────────────────────────────────────────────────────────────────────────────────────────────────────────────────────────────────────────\n",
       "               ┌────┐┌─────────────┐┌────┐┌────────┐     ┌────┐┌─────────────┐     ┌────┐    ┌────────┐               ┌────┐┌─────────────┐     ┌────┐    ┌────────┐               ┌────┐┌─────────────┐     ┌────┐     ┌────────┐          \n",
       "      q_0 -> 2 ┤ √X ├┤ Rz(θ_0 + π) ├┤ √X ├┤ Rz(3π) ├──■──┤ √X ├┤ Rz(θ_3 + π) ├─────┤ √X ├────┤ Rz(3π) ├────────────■──┤ √X ├┤ Rz(θ_6 + π) ├─────┤ √X ├────┤ Rz(3π) ├────────────■──┤ √X ├┤ Rz(θ_9 + π) ├─────┤ √X ├─────┤ Rz(3π) ├──────────\n",
       "               ├────┤├─────────────┤├────┤├────────┤┌─┴─┐└────┘└────┬────┬───┘┌────┴────┴───┐└─┬────┬─┘┌────────┐┌─┴─┐└────┘└────┬────┬───┘┌────┴────┴───┐└─┬────┬─┘┌────────┐┌─┴─┐└────┘└────┬────┬───┘┌────┴────┴────┐└─┬────┬─┘┌────────┐\n",
       "      q_1 -> 3 ┤ √X ├┤ Rz(θ_1 + π) ├┤ √X ├┤ Rz(3π) ├┤ X ├──■────────┤ √X ├────┤ Rz(θ_4 + π) ├──┤ √X ├──┤ Rz(3π) ├┤ X ├──■────────┤ √X ├────┤ Rz(θ_7 + π) ├──┤ √X ├──┤ Rz(3π) ├┤ X ├──■────────┤ √X ├────┤ Rz(θ_10 + π) ├──┤ √X ├──┤ Rz(3π) ├\n",
       "               ├────┤├─────────────┤├────┤├────────┤└───┘┌─┴─┐      ├────┤    ├─────────────┤  ├────┤  ├────────┤└───┘┌─┴─┐      ├────┤    ├─────────────┤  ├────┤  ├────────┤└───┘┌─┴─┐      ├────┤    ├──────────────┤  ├────┤  ├────────┤\n",
       "      q_2 -> 4 ┤ √X ├┤ Rz(θ_2 + π) ├┤ √X ├┤ Rz(3π) ├─────┤ X ├──────┤ √X ├────┤ Rz(θ_5 + π) ├──┤ √X ├──┤ Rz(3π) ├─────┤ X ├──────┤ √X ├────┤ Rz(θ_8 + π) ├──┤ √X ├──┤ Rz(3π) ├─────┤ X ├──────┤ √X ├────┤ Rz(θ_11 + π) ├──┤ √X ├──┤ Rz(3π) ├\n",
       "               └────┘└─────────────┘└────┘└────────┘     └───┘      └────┘    └─────────────┘  └────┘  └────────┘     └───┘      └────┘    └─────────────┘  └────┘  └────────┘     └───┘      └────┘    └──────────────┘  └────┘  └────────┘"
      ]
     },
     "execution_count": 14,
     "metadata": {},
     "output_type": "execute_result"
    }
   ],
   "source": [
    "# Force anstaz to be applied to qubits in the heavy hex.\n",
    "# Avoid the outer qubits 0, 6, 9, and 15 which we accounted for in the lattice definition.\n",
    "q_layout = [2,3,4]\n",
    "ansatz_opt = transpile(ansatz, backend=guadalupe, initial_layout=q_layout)\n",
    "\n",
    "print('number and type of gates in the cirucit:', ansatz_opt.count_ops())\n",
    "print('number of parameters in the circuit:', ansatz_opt.num_parameters)\n",
    "ansatz_opt.draw(fold=300)"
   ]
  },
  {
   "cell_type": "code",
   "execution_count": 16,
   "id": "a31ac498",
   "metadata": {},
   "outputs": [
    {
     "data": {
      "image/png": "[encoded data removed]",
      "text/plain": [
       "<Figure size 1252x451.5 with 1 Axes>"
      ]
     },
     "execution_count": 16,
     "metadata": {},
     "output_type": "execute_result"
    }
   ],
   "source": [
    "qc = QuantumCircuit(3)\n",
    "qc.cry(Parameter(\"Theta\"), 0, 1)\n",
    "q_layout = [2,3,4]\n",
    "\n",
    "\n",
    "ansatz_opt = transpile(qc, backend=guadalupe, initial_layout=q_layout)\n",
    "ansatz_opt.draw('mpl')"
   ]
  },
  {
   "cell_type": "markdown",
   "id": "5409199f-031b-4b4d-bba5-ac30b97cae60",
   "metadata": {},
   "source": [
    "## 2-4 Choose a classical optimizer\n",
    "Select a [classical optimizer](https://qiskit.org/documentation/stubs/qiskit.algorithms.optimizers.html#local-optimizers). The classical optimizer will encounter errored and stochastic results from the quantum computer due to gate errors, measurement errors, and other noise sources as well as finite sampling affects [8]. Choose a classical optimizer that pairs well with your approach to VQE. Along with choosing a classical optimizer, picking an initial set of parameters plays a significant role in VQE. In this example, a random set of values is picked (shown in the `CustomVQE` class section 2-5).\n",
    "\n",
    "\\[8\\] \"Using models to improve optimizers for variational quantum algorithms\" K. Sung, et al. [arXiv:2005.11011v2](https://arxiv.org/abs/2005.11011v2) [quant-ph] (2020)"
   ]
  },
  {
   "cell_type": "code",
   "execution_count": 17,
   "id": "4dfc540b-1a31-4481-b37c-90e840ca6e19",
   "metadata": {
    "tags": []
   },
   "outputs": [],
   "source": [
    "from qiskit.algorithms.optimizers import NFT\n",
    "\n",
    "optimizer = NFT(maxiter=20)"
   ]
  },
  {
   "cell_type": "markdown",
   "id": "dbbe9fdd-f6cf-472a-8955-5356919c8c98",
   "metadata": {},
   "source": [
    "## 2-5 Define custom VQE program\n",
    "The VQE calculation can be efficiently orchestrated between the quantum and classical computer using qiskit's [primitives](https://qiskit.org/documentation/apidoc/primitives.html). Below is a simple example of using the [Estimator primitive](https://qiskit.org/documentation/apidoc/primitives.html#overview-of-estimator) with your computer as a local simulator of a quantum computer. It's convenient to bring the components of VQE together into a custom class which we've called `CustomVQE`.\n",
    "\n",
    "If you want more control over the measurement results and how the expectation values are computed, use the [Sampler primitive](https://qiskit.org/documentation/apidoc/primitives.html#overview-of-sampler) which will output the probabilities (or quasi-probabilities) of every measured state instead of expectation values."
   ]
  },
  {
   "cell_type": "code",
   "execution_count": 18,
   "id": "25c2d053-97fb-4597-b716-d30b025d2a6f",
   "metadata": {
    "tags": []
   },
   "outputs": [],
   "source": [
    "from qiskit.algorithms import MinimumEigensolver, VQEResult\n",
    "\n",
    "# Define a custome VQE class to orchestra the ansatz, classical optimizers, \n",
    "# initial point, callback, and final result\n",
    "class CustomVQE(MinimumEigensolver):\n",
    "    \n",
    "    def __init__(self, estimator, circuit, optimizer, callback=None):\n",
    "        self._estimator = estimator\n",
    "        self._circuit = circuit\n",
    "        self._optimizer = optimizer\n",
    "        self._callback = callback\n",
    "        \n",
    "    def compute_minimum_eigenvalue(self, operators, aux_operators=None):\n",
    "                \n",
    "        # Define objective function to classically minimize over\n",
    "        def objective(x):\n",
    "            # Execute job with estimator primitive\n",
    "            job = self._estimator.run([self._circuit], [operators], [x])\n",
    "            # Get results from jobs\n",
    "            est_result = job.result()\n",
    "            # Get the measured energy value\n",
    "            value = est_result.values[0]\n",
    "            # Save result information using callback function\n",
    "            if self._callback is not None:\n",
    "                self._callback(value)\n",
    "            return value\n",
    "            \n",
    "        # Select an initial point for the ansatzs' parameters\n",
    "        x0 = np.zeros((self._circuit.num_parameters))\n",
    "        \n",
    "        # Run optimization\n",
    "        res = self._optimizer.minimize(objective, x0=x0)\n",
    "        \n",
    "        # Populate VQE result\n",
    "        result = VQEResult()\n",
    "        result.cost_function_evals = res.nfev\n",
    "        result.eigenvalue = res.fun\n",
    "        result.optimal_parameters = res.x\n",
    "        return result\n"
   ]
  },
  {
   "cell_type": "markdown",
   "id": "763b523a-94e5-40ae-89c1-caa045ffa563",
   "metadata": {},
   "source": [
    "### Callback\n",
    "It's important to know what's going on between the classical and quantum computer during the optimization. What parameter values is the classical optimizer picking? How does the convergence to the ground state energy behave?\n",
    "\n",
    "Defining a callback function gives us a chance to peek in. A simple callback method is defined below. See [this tutorial](https://qiskit.org/documentation/tutorials/algorithms/02_vqe_convergence.html) for more information and be sure to read the classical [optimizers' docs](https://qiskit.org/documentation/stubs/qiskit.algorithms.optimizers.html) for what specific values can be extracted during optimization. For example [SPSA](https://qiskit.org/documentation/stubs/qiskit.algorithms.optimizers.SPSA.html#qiskit.algorithms.optimizers.SPSA) returns: (nfev, parameters, value, stepsize, accepted)."
   ]
  },
  {
   "cell_type": "code",
   "execution_count": 19,
   "id": "3c9f48d3-186e-419a-8e03-53d3e81d1fca",
   "metadata": {
    "tags": []
   },
   "outputs": [],
   "source": [
    "# Define a simple callback function\n",
    "intermediate_info = []\n",
    "def callback(value):\n",
    "        intermediate_info.append(value)"
   ]
  },
  {
   "cell_type": "markdown",
   "id": "03488a94-62da-4f09-9b91-d6857e7dcc91",
   "metadata": {},
   "source": [
    "## 2-6 Execute simulated VQE\n",
    "The VQE is built! Time to test it out on a simulator. This may take a few seconds."
   ]
  },
  {
   "cell_type": "code",
   "execution_count": 20,
   "id": "4f793a4d",
   "metadata": {
    "tags": []
   },
   "outputs": [],
   "source": [
    "from qiskit.primitives import Estimator"
   ]
  },
  {
   "cell_type": "code",
   "execution_count": 21,
   "id": "f04d92b9-0467-4c6f-b893-48e5035880b4",
   "metadata": {
    "tags": []
   },
   "outputs": [
    {
     "name": "stdout",
     "output_type": "stream",
     "text": [
      "{   'aux_operator_eigenvalues': None,\n",
      "    'cost_function_evals': 41,\n",
      "    'eigenstate': None,\n",
      "    'eigenvalue': 3.0,\n",
      "    'optimal_circuit': None,\n",
      "    'optimal_parameters': array([15.06446216]),\n",
      "    'optimal_point': None,\n",
      "    'optimal_value': None,\n",
      "    'optimizer_evals': None,\n",
      "    'optimizer_result': None,\n",
      "    'optimizer_time': None}\n"
     ]
    }
   ],
   "source": [
    "# Define instance of qiskit-terra's Estimator primitive\n",
    "estimator = Estimator([ansatz_opt], [ham_16])\n",
    "\n",
    "# Setup VQE algorithm\n",
    "custom_vqe = CustomVQE(estimator, ansatz_opt, optimizer, callback=callback)\n",
    "\n",
    "# Run the custom VQE function and monitor execution time\n",
    "result = custom_vqe.compute_minimum_eigenvalue(ham_16)\n",
    "\n",
    "print(result)\n"
   ]
  },
  {
   "cell_type": "markdown",
   "id": "8ea85ca6-9c38-48af-8dc7-802ea94aa60a",
   "metadata": {},
   "source": [
    "In the print out above, the ground state energy is under \"eigenvalue\", and the optimal choice of parameters that goes with that energy is under \"optimal_parameters\". Let's plot the energy convergence data the callback function acquired."
   ]
  },
  {
   "cell_type": "code",
   "execution_count": 84,
   "id": "04beda9f-aa08-45fc-95a5-63dbf916d881",
   "metadata": {
    "tags": []
   },
   "outputs": [
    {
     "data": {
      "image/png": "[encoded data removed]",
      "text/plain": [
       "<Figure size 640x480 with 1 Axes>"
      ]
     },
     "metadata": {},
     "output_type": "display_data"
    }
   ],
   "source": [
    "plt.plot(intermediate_info, color='purple', lw=2, label='Simulated VQE')\n",
    "plt.ylabel('Energy')\n",
    "plt.xlabel('Iterations')\n",
    "# Exact ground state energy value\n",
    "plt.axhline(y=gs_energy, color=\"tab:red\", ls=\"--\", lw=2, label=\"Target: \" + str(gs_energy))\n",
    "plt.legend()\n",
    "plt.grid()\n",
    "plt.show()"
   ]
  },
  {
   "cell_type": "markdown",
   "id": "7665fd9d-80af-4529-a3ff-d7d85b41da0a",
   "metadata": {},
   "source": [
    "The true ground state energy is -18.0. As a metric for how well the VQE found the ground state energy, we will compute the relative difference between -18.0 and what we just achieved with VQE. This will be the metric of performance in the judging criteria, though it's important to note that it's not the only useful metric when working with VQE. Remember that the lower the relative error the higher you will score."
   ]
  },
  {
   "cell_type": "code",
   "execution_count": 21,
   "id": "17fa9823-dd6f-40a5-938a-744662133b00",
   "metadata": {
    "tags": []
   },
   "outputs": [
    {
     "name": "stdout",
     "output_type": "stream",
     "text": [
      "Expected ground state energy: -3.0000000000\n",
      "Computed ground state energy: -2.9999975720\n",
      "Relative error: 0.00000081\n"
     ]
    }
   ],
   "source": [
    "def rel_err(target, measured):\n",
    "    return abs((target - measured) / target)\n",
    "\n",
    "# Compute the relative error between the expected ground state energy and the VQE's output\n",
    "rel_error = rel_err(gs_energy, result.eigenvalue)\n",
    "\n",
    "print(f'Expected ground state energy: {gs_energy:.10f}')\n",
    "print(f'Computed ground state energy: {result.eigenvalue:.10f}')\n",
    "print(f'Relative error: {rel_error:.8f}')"
   ]
  },
  {
   "cell_type": "markdown",
   "id": "7519917a-8605-4445-bee2-efc839283604",
   "metadata": {},
   "source": [
    "## 3-1 Qiskit runtime (cloud simulator)\n",
    "\n",
    "Next we demonstrate how to run VQE using [qiskit_ibm_runtime](https://github.com/Qiskit/qiskit-ibm-runtime) **which has different syntax from qiskit terra's runtime**. The qiskit_ibm_runtime module includes the same programming model as qiskit terra, but qiskit_ibm_runtime has access to a cloud simulator and more importantly the ibmq_guadalupe device. To learn more about qiskit_ibm_runtime check out these tutorials from the docs: [a tutorial on the estimator](https://github.com/Qiskit/qiskit-ibm-runtime/blob/main/docs/tutorials/how-to-getting-started-with-estimator.ipynb) and [a tutorial on the sampler](https://github.com/Qiskit/qiskit-ibm-runtime/blob/main/docs/tutorials/how-to-getting-started-with-sampler.ipynb).\n",
    "\n",
    "We will use all the same VQE components we've built up so far, but the syntax for executing on the hardware is wrapped in [a session](https://quantum-computing.ibm.com/lab/docs/iql/manage/systems/sessions/) as shown in the following cells.\n",
    "\n",
    "We first demonstrate running VQE with the cloud simulator backend to check everything is working correctly. This may take a few minutes. After running on the cloud simulator, we make a simple switch of backends to the real ibmq_guadalupe device to get the final result. Depending on how your VQE is setup, this may take a couple hours."
   ]
  },
  {
   "cell_type": "code",
   "execution_count": 22,
   "id": "1e42ae96-a23b-40dc-af63-f7067e708c98",
   "metadata": {
    "tags": []
   },
   "outputs": [],
   "source": [
    "from qiskit_ibm_runtime import (QiskitRuntimeService, Session,\n",
    "                                Estimator as RuntimeEstimator)\n",
    "from qiskit import Aer\n",
    "\n",
    "# Save an IBM Quantum account. See docs for credential security warning\n",
    "# https://github.com/Qiskit/qiskit-ibm-runtime/tree/stable/0.7#saving-account-on-disk\n",
    "# QiskitRuntimeService.save_account(channel=\"ibm_quantum\", token=\"MY_IBM_QUANTUM_TOKEN\")\n",
    "service = QiskitRuntimeService(channel='ibm_quantum')"
   ]
  },
  {
   "cell_type": "code",
   "execution_count": 23,
   "id": "cd58da58-d42c-4a83-b72a-b289009e4004",
   "metadata": {
    "tags": []
   },
   "outputs": [
    {
     "name": "stdout",
     "output_type": "stream",
     "text": [
      "Simulators: [<IBMBackend('ibmq_qasm_simulator')>, <IBMBackend('simulator_statevector')>, <IBMBackend('simulator_mps')>, <IBMBackend('simulator_extended_stabilizer')>, <IBMBackend('simulator_stabilizer')>]\n"
     ]
    }
   ],
   "source": [
    "# print available backend and select one\n",
    "print('Simulators:', service.backends(simulator=True))\n",
    "\n",
    "# Select a simulator backend\n",
    "backend = 'simulator_statevector'"
   ]
  },
  {
   "cell_type": "code",
   "execution_count": 24,
   "id": "82c84117-6239-42c2-964d-7a3df3f709e1",
   "metadata": {
    "tags": []
   },
   "outputs": [],
   "source": [
    "# Define a simple callback function\n",
    "intermediate_info_sim_backend = []\n",
    "def callback_real(value):\n",
    "        intermediate_info_sim_backend.append(value)"
   ]
  },
  {
   "cell_type": "code",
   "execution_count": 25,
   "id": "5f76c686-0975-4557-a652-17b5325124fa",
   "metadata": {
    "tags": []
   },
   "outputs": [],
   "source": [
    "import signal, time\n",
    "\n",
    "from qiskit_ibm_runtime import Estimator, Session\n",
    "from qiskit.providers import JobStatus\n",
    "\n",
    "def timeout_handler(signum, frame):\n",
    "    raise Exception('Iteration timed out')\n",
    "    \n",
    "class RetryEstimator(Estimator):\n",
    "    \"\"\"RuntimeRetryEstimator class.\n",
    "    \n",
    "    This class inherits from Qiskit IBM Runtime's Estimator and overwrites its run method such that it retries calling it\n",
    "    a maximum of 'max_retries' consecutive times, if it encounters one of the following randomly occuring errors:\n",
    "    \n",
    "    * An Estimator error (in this case \"Job.ERROR\" is printed, and the job is cancelled automatically)\n",
    "    * A timeout error where the job either remains running or completes but does not return anything, for a time larger \n",
    "      than 'timeout' (in this case the job is cancelled by the patch and \"Job.CANCELLED\" is printed)\n",
    "    * A creation error, where the job fails to be created because connection is lost between the runtime server and the\n",
    "      quantum computer (in this case \"Failed to create job.\" is printed). If this error occurs, the patch connects the user\n",
    "      to a new Session (to be handled with care! also, this will unfortunately put the next job in the queue). \n",
    "    \"\"\"\n",
    "    \n",
    "    def __init__(self, *args, max_retries: int = 5, timeout: int = 3600, **kwargs) -> None:\n",
    "        super().__init__(*args, **kwargs)\n",
    "        self.max_retries = max_retries\n",
    "        self.timeout = timeout\n",
    "        self.backend = super().session._backend\n",
    "        signal.signal(signal.SIGALRM, timeout_handler)\n",
    "    \n",
    "    def run(self, circuits, observables, parameter_values, **kwargs):\n",
    "        result = None\n",
    "        for i in range(self.max_retries):\n",
    "            try:\n",
    "                job = super().run(circuits, observables, parameter_values, **kwargs)\n",
    "                while job.status() in [JobStatus.INITIALIZING, JobStatus.QUEUED, JobStatus.VALIDATING]:\n",
    "                    time.sleep(5) # Check every 5 seconds whether job status has changed\n",
    "                signal.alarm(self.timeout) # Once job starts running, set timeout to 1 hour by default\n",
    "                result = job.result()\n",
    "                if result is not None:\n",
    "                    signal.alarm(0) # reset timer\n",
    "                    return job\n",
    "            except Exception as e:\n",
    "                print(\"\\nSomething went wrong...\")\n",
    "                print(f\"\\n\\nERROR MESSAGE:\\n{e}\\n\\n\")\n",
    "                if 'job' in locals(): # Sometimes job fails to create\n",
    "                    print(f\"Job ID: {job.job_id}. Job status: {job.status()}.\")\n",
    "                    if job.status() not in [JobStatus.DONE, JobStatus.ERROR, JobStatus.CANCELLED]:\n",
    "                        job.cancel()\n",
    "                else:\n",
    "                    print(\"Failed to create job.\")\n",
    "                print(f\"Starting trial number {i+2}...\\n\")\n",
    "                print(f\"Creating new session...\\n\")\n",
    "                signal.alarm(0) # reset timer\n",
    "                super().session.close()\n",
    "                self._session = Session(backend=self.backend)\n",
    "        if result is None:\n",
    "            raise RuntimeError(f\"Program failed! Maximum number of retries ({self.max_retries}) exceeded\")"
   ]
  },
  {
   "cell_type": "code",
   "execution_count": 27,
   "id": "293371d8-25cf-4daf-944e-05fa38ba4156",
   "metadata": {
    "tags": []
   },
   "outputs": [
    {
     "name": "stdout",
     "output_type": "stream",
     "text": [
      "execution time (s): 720.72\n"
     ]
    }
   ],
   "source": [
    "# Setup Estimator with session error handling reconnection work around\n",
    "start = time.time()\n",
    "with Session(service=service, backend=backend) as session:\n",
    "    # Prepare extended primitive\n",
    "    rt_estimator = RetryEstimator(session=session)\n",
    "    # set up algorithm\n",
    "    custom_vqe = CustomVQE(rt_estimator, ansatz_opt, optimizer, callback=callback_real)\n",
    "    # run algorithm\n",
    "    result = custom_vqe.compute_minimum_eigenvalue(ham_16)\n",
    "end = time.time()\n",
    "print(f'execution time (s): {end - start:.2f}')"
   ]
  },
  {
   "cell_type": "code",
   "execution_count": null,
   "id": "3be7fe16-6208-4e07-aa69-845baa874257",
   "metadata": {
    "tags": []
   },
   "outputs": [],
   "source": [
    "# # Setup Estimator (standard method)\n",
    "# start = time()\n",
    "# with Session(service=service, backend=backend) as session:\n",
    "#     # Prepare primitive\n",
    "#     rt_estimator = RuntimeEstimator(session=session)\n",
    "#     # Set up algorithm\n",
    "#     custom_vqe = CustomVQE(rt_estimator, ansatz_opt, optimizer, callback=callback_sim)\n",
    "#     # Run algorithm\n",
    "#     result = custom_vqe.compute_minimum_eigenvalue(ham_16)\n",
    "# end = time()\n",
    "# print(f'execution time (s): {end - start:.2f}')"
   ]
  },
  {
   "cell_type": "code",
   "execution_count": 28,
   "id": "a35dc309-ea85-42c3-8897-50e4e5a22625",
   "metadata": {
    "tags": []
   },
   "outputs": [
    {
     "data": {
      "image/png": "[encoded data removed]",
      "text/plain": [
       "<Figure size 640x480 with 1 Axes>"
      ]
     },
     "metadata": {},
     "output_type": "display_data"
    }
   ],
   "source": [
    "plt.plot(intermediate_info_sim_backend, color='purple', lw=2, label='Simulated VQE')\n",
    "plt.ylabel('Energy')\n",
    "plt.xlabel('Iterations')\n",
    "plt.axhline(y=gs_energy, color=\"tab:red\", ls=\"--\", lw=2, label=\"Target: \" + str(gs_energy))\n",
    "plt.legend()\n",
    "plt.grid()\n",
    "plt.show()"
   ]
  },
  {
   "cell_type": "code",
   "execution_count": 29,
   "id": "0ca08bb6",
   "metadata": {
    "tags": []
   },
   "outputs": [
    {
     "name": "stdout",
     "output_type": "stream",
     "text": [
      "Expected ground state energy: -3.0000000000\n",
      "Computed ground state energy: -2.9990000000\n",
      "Relative error: 0.00033333\n"
     ]
    }
   ],
   "source": [
    "# Compute the relative error between the expected ground state energy and the measured\n",
    "rel_error = rel_err(gs_energy, result.eigenvalue)\n",
    "\n",
    "print(f'Expected ground state energy: {gs_energy:.10f}')\n",
    "print(f'Computed ground state energy: {result.eigenvalue:.10f}')\n",
    "print(f'Relative error: {rel_error:.8f}')"
   ]
  },
  {
   "cell_type": "markdown",
   "id": "968daf3c-f592-4ae3-88e8-6a64aa93b5ad",
   "metadata": {},
   "source": [
    "## 3-2 Qiskit runtime Real backend (ibmq_guadalupe)\n",
    "\n",
    "If our `qiskit_ibm_runtime` code is working on the cloud simulator backend, we can simply change the backend to the ibmq_guadalupe to run on the real backend. This may take a couple hours. Your performance score will be determined by the calculated relative error between the true ground state energy of -18.0 and the measured energy from the real ibmq_guadalupe backend."
   ]
  },
  {
   "cell_type": "code",
   "execution_count": 31,
   "id": "3d14c493-4bdc-4142-9c3c-de6ccd9150d7",
   "metadata": {
    "tags": []
   },
   "outputs": [],
   "source": [
    "# service = QiskitRuntimeService(channel='ibm_quantum')\n",
    "QiskitRuntimeService.save_account(channel=\"ibm_quantum\", token=TOKEN,\n",
    "                                  overwrite = True)\n",
    "service = QiskitRuntimeService(channel='ibm_quantum')\n",
    "\n",
    "\n",
    "backend = 'ibmq_manila'"
   ]
  },
  {
   "cell_type": "code",
   "execution_count": 32,
   "id": "9925cf63-088c-421d-995b-98691595e864",
   "metadata": {
    "tags": []
   },
   "outputs": [],
   "source": [
    "# Define a simple callback function\n",
    "intermediate_info_real_backend = []\n",
    "def callback_real(value):\n",
    "        intermediate_info_real_backend.append(value)"
   ]
  },
  {
   "cell_type": "code",
   "execution_count": 35,
   "id": "b0270a9d-996e-4230-a063-0fd22aa1a7bd",
   "metadata": {
    "tags": []
   },
   "outputs": [],
   "source": [
    "import signal, time\n",
    "\n",
    "from qiskit_ibm_runtime import Estimator, Session\n",
    "from qiskit.providers import JobStatus\n",
    "\n",
    "def timeout_handler(signum, frame):\n",
    "    raise Exception('Iteration timed out')\n",
    "    \n",
    "class RetryEstimator(Estimator):\n",
    "    \"\"\"RuntimeRetryEstimator class.\n",
    "    \n",
    "    This class inherits from Qiskit IBM Runtime's Estimator and overwrites its run method such that it retries calling it\n",
    "    a maximum of 'max_retries' consecutive times, if it encounters one of the following randomly occuring errors:\n",
    "    \n",
    "    * An Estimator error (in this case \"Job.ERROR\" is printed, and the job is cancelled automatically)\n",
    "    * A timeout error where the job either remains running or completes but does not return anything, for a time larger \n",
    "      than 'timeout' (in this case the job is cancelled by the patch and \"Job.CANCELLED\" is printed)\n",
    "    * A creation error, where the job fails to be created because connection is lost between the runtime server and the\n",
    "      quantum computer (in this case \"Failed to create job.\" is printed). If this error occurs, the patch connects the user\n",
    "      to a new Session (to be handled with care! also, this will unfortunately put the next job in the queue). \n",
    "    \"\"\"\n",
    "    \n",
    "    def __init__(self, *args, max_retries: int = 5, timeout: int = 3600, **kwargs) -> None:\n",
    "        super().__init__(*args, **kwargs)\n",
    "        self.max_retries = max_retries\n",
    "        self.timeout = timeout\n",
    "        self.backend = super().session._backend\n",
    "        signal.signal(signal.SIGALRM, timeout_handler)\n",
    "    \n",
    "    def run(self, circuits, observables, parameter_values, **kwargs):\n",
    "        result = None\n",
    "        for i in range(self.max_retries):\n",
    "            try:\n",
    "                job = super().run(circuits, observables, parameter_values, **kwargs)\n",
    "                while job.status() in [JobStatus.INITIALIZING, JobStatus.QUEUED, JobStatus.VALIDATING]:\n",
    "                    time.sleep(5) # Check every 5 seconds whether job status has changed\n",
    "                    print(job.status())\n",
    "                signal.alarm(self.timeout) # Once job starts running, set timeout to 1 hour by default\n",
    "                result = job.result()\n",
    "                if result is not None:\n",
    "                    signal.alarm(0) # reset timer\n",
    "                    return job\n",
    "            except Exception as e:\n",
    "                print(\"\\nSomething went wrong...\")\n",
    "                print(f\"\\n\\nERROR MESSAGE:\\n{e}\\n\\n\")\n",
    "                if 'job' in locals(): # Sometimes job fails to create\n",
    "                    print(f\"Job ID: {job.job_id}. Job status: {job.status()}.\")\n",
    "                    if job.status() not in [JobStatus.DONE, JobStatus.ERROR, JobStatus.CANCELLED]:\n",
    "                        job.cancel()\n",
    "                else:\n",
    "                    print(\"Failed to create job.\")\n",
    "                print(f\"Starting trial number {i+2}...\\n\")\n",
    "                print(f\"Creating new session...\\n\")\n",
    "                signal.alarm(0) # reset timer\n",
    "                super().session.close()\n",
    "                self._session = Session(backend=self.backend)\n",
    "        if result is None:\n",
    "            raise RuntimeError(f\"Program failed! Maximum number of retries ({self.max_retries}) exceeded\")"
   ]
  },
  {
   "cell_type": "code",
   "execution_count": 36,
   "id": "f9d08c41-806d-4222-89a5-c1f9e025635e",
   "metadata": {
    "tags": []
   },
   "outputs": [
    {
     "name": "stdout",
     "output_type": "stream",
     "text": [
      "JobStatus.QUEUED\n",
      "JobStatus.QUEUED\n",
      "JobStatus.QUEUED\n",
      "JobStatus.QUEUED\n",
      "JobStatus.QUEUED\n",
      "JobStatus.QUEUED\n",
      "JobStatus.QUEUED\n",
      "JobStatus.QUEUED\n",
      "JobStatus.QUEUED\n",
      "JobStatus.QUEUED\n",
      "JobStatus.QUEUED\n",
      "JobStatus.QUEUED\n",
      "JobStatus.QUEUED\n",
      "JobStatus.QUEUED\n",
      "JobStatus.QUEUED\n",
      "JobStatus.QUEUED\n",
      "JobStatus.QUEUED\n",
      "JobStatus.QUEUED\n",
      "JobStatus.QUEUED\n",
      "JobStatus.QUEUED\n",
      "JobStatus.QUEUED\n",
      "JobStatus.QUEUED\n",
      "JobStatus.QUEUED\n",
      "JobStatus.QUEUED\n",
      "JobStatus.QUEUED\n",
      "JobStatus.QUEUED\n",
      "JobStatus.QUEUED\n",
      "JobStatus.QUEUED\n",
      "JobStatus.QUEUED\n",
      "JobStatus.QUEUED\n",
      "JobStatus.QUEUED\n",
      "JobStatus.QUEUED\n",
      "JobStatus.QUEUED\n",
      "JobStatus.QUEUED\n",
      "JobStatus.QUEUED\n",
      "JobStatus.QUEUED\n",
      "JobStatus.QUEUED\n",
      "JobStatus.QUEUED\n",
      "JobStatus.QUEUED\n",
      "JobStatus.QUEUED\n",
      "JobStatus.QUEUED\n",
      "JobStatus.QUEUED\n",
      "JobStatus.QUEUED\n",
      "JobStatus.QUEUED\n",
      "JobStatus.QUEUED\n",
      "JobStatus.QUEUED\n",
      "JobStatus.QUEUED\n",
      "JobStatus.QUEUED\n",
      "JobStatus.QUEUED\n",
      "JobStatus.QUEUED\n",
      "JobStatus.QUEUED\n",
      "JobStatus.QUEUED\n",
      "JobStatus.QUEUED\n",
      "JobStatus.RUNNING\n",
      "JobStatus.RUNNING\n",
      "JobStatus.RUNNING\n",
      "JobStatus.RUNNING\n",
      "JobStatus.RUNNING\n",
      "JobStatus.RUNNING\n",
      "JobStatus.RUNNING\n",
      "JobStatus.RUNNING\n",
      "JobStatus.RUNNING\n",
      "JobStatus.RUNNING\n",
      "JobStatus.RUNNING\n",
      "JobStatus.RUNNING\n",
      "JobStatus.RUNNING\n",
      "JobStatus.RUNNING\n",
      "JobStatus.RUNNING\n",
      "JobStatus.RUNNING\n",
      "JobStatus.RUNNING\n",
      "JobStatus.RUNNING\n",
      "JobStatus.RUNNING\n",
      "JobStatus.RUNNING\n",
      "JobStatus.RUNNING\n",
      "JobStatus.RUNNING\n",
      "JobStatus.RUNNING\n",
      "JobStatus.RUNNING\n",
      "JobStatus.RUNNING\n",
      "JobStatus.RUNNING\n",
      "JobStatus.RUNNING\n",
      "JobStatus.RUNNING\n",
      "JobStatus.RUNNING\n",
      "JobStatus.RUNNING\n",
      "JobStatus.RUNNING\n",
      "JobStatus.RUNNING\n",
      "JobStatus.RUNNING\n",
      "JobStatus.RUNNING\n",
      "JobStatus.RUNNING\n",
      "JobStatus.RUNNING\n",
      "JobStatus.RUNNING\n",
      "JobStatus.RUNNING\n",
      "JobStatus.RUNNING\n",
      "JobStatus.RUNNING\n",
      "JobStatus.RUNNING\n",
      "JobStatus.RUNNING\n",
      "JobStatus.RUNNING\n",
      "JobStatus.RUNNING\n",
      "JobStatus.RUNNING\n",
      "JobStatus.RUNNING\n",
      "JobStatus.RUNNING\n",
      "JobStatus.RUNNING\n",
      "JobStatus.RUNNING\n",
      "JobStatus.RUNNING\n",
      "JobStatus.RUNNING\n",
      "JobStatus.RUNNING\n",
      "JobStatus.RUNNING\n",
      "JobStatus.RUNNING\n",
      "JobStatus.RUNNING\n",
      "JobStatus.RUNNING\n",
      "JobStatus.RUNNING\n",
      "JobStatus.RUNNING\n",
      "JobStatus.RUNNING\n",
      "JobStatus.RUNNING\n",
      "JobStatus.RUNNING\n",
      "JobStatus.RUNNING\n",
      "JobStatus.RUNNING\n",
      "JobStatus.RUNNING\n",
      "JobStatus.RUNNING\n",
      "JobStatus.RUNNING\n",
      "JobStatus.RUNNING\n",
      "JobStatus.RUNNING\n",
      "JobStatus.RUNNING\n",
      "JobStatus.RUNNING\n",
      "JobStatus.RUNNING\n",
      "JobStatus.RUNNING\n",
      "JobStatus.RUNNING\n",
      "JobStatus.RUNNING\n",
      "JobStatus.RUNNING\n",
      "JobStatus.RUNNING\n",
      "JobStatus.RUNNING\n",
      "JobStatus.RUNNING\n",
      "JobStatus.RUNNING\n",
      "JobStatus.RUNNING\n",
      "JobStatus.RUNNING\n",
      "JobStatus.RUNNING\n",
      "JobStatus.RUNNING\n",
      "JobStatus.RUNNING\n",
      "JobStatus.RUNNING\n",
      "JobStatus.RUNNING\n",
      "JobStatus.RUNNING\n",
      "JobStatus.RUNNING\n",
      "JobStatus.RUNNING\n",
      "JobStatus.RUNNING\n",
      "JobStatus.RUNNING\n",
      "JobStatus.RUNNING\n",
      "JobStatus.RUNNING\n",
      "JobStatus.RUNNING\n",
      "JobStatus.RUNNING\n",
      "JobStatus.RUNNING\n",
      "JobStatus.RUNNING\n",
      "JobStatus.RUNNING\n",
      "JobStatus.RUNNING\n",
      "JobStatus.RUNNING\n",
      "JobStatus.RUNNING\n",
      "JobStatus.RUNNING\n",
      "JobStatus.RUNNING\n",
      "JobStatus.RUNNING\n",
      "JobStatus.RUNNING\n",
      "JobStatus.RUNNING\n",
      "JobStatus.RUNNING\n",
      "JobStatus.RUNNING\n",
      "JobStatus.RUNNING\n",
      "JobStatus.RUNNING\n",
      "JobStatus.RUNNING\n",
      "JobStatus.RUNNING\n",
      "JobStatus.RUNNING\n",
      "JobStatus.RUNNING\n",
      "JobStatus.RUNNING\n",
      "JobStatus.RUNNING\n",
      "JobStatus.RUNNING\n",
      "JobStatus.RUNNING\n",
      "JobStatus.RUNNING\n",
      "JobStatus.RUNNING\n",
      "JobStatus.RUNNING\n",
      "JobStatus.RUNNING\n",
      "JobStatus.RUNNING\n",
      "execution time (s): 2268.61\n"
     ]
    }
   ],
   "source": [
    "# Setup Estimator with session error handling reconnection work around\n",
    "start = time.time()\n",
    "with Session(service=service, backend=backend) as session:\n",
    "    # Prepare extended primitive\n",
    "    rt_estimator = RetryEstimator(session=session)\n",
    "    # set up algorithm\n",
    "    custom_vqe = CustomVQE(rt_estimator, ansatz_opt, optimizer, callback=callback_real)\n",
    "    # run algorithm\n",
    "    result = custom_vqe.compute_minimum_eigenvalue(ham_16)\n",
    "end = time.time()\n",
    "print(f'execution time (s): {end - start:.2f}')"
   ]
  },
  {
   "cell_type": "code",
   "execution_count": 38,
   "id": "95b2a311-0acd-4a9f-b915-2733e08f4d50",
   "metadata": {
    "tags": []
   },
   "outputs": [
    {
     "name": "stdout",
     "output_type": "stream",
     "text": [
      "{   'aux_operator_eigenvalues': None,\n",
      "    'cost_function_evals': 153,\n",
      "    'eigenstate': None,\n",
      "    'eigenvalue': -2.45,\n",
      "    'optimal_circuit': None,\n",
      "    'optimal_parameters': array([ 3.16408261, -0.00986371, -0.04395763,  1.52603461, -0.02630103,\n",
      "        0.04718178]),\n",
      "    'optimal_point': None,\n",
      "    'optimal_value': None,\n",
      "    'optimizer_evals': None,\n",
      "    'optimizer_result': None,\n",
      "    'optimizer_time': None}\n"
     ]
    }
   ],
   "source": [
    "# # Setup Estimator\n",
    "# start = time()\n",
    "# with Session(service=service, backend=backend) as session:\n",
    "#     # Prepare primitive\n",
    "#     rt_estimator = RuntimeEstimator(session=session)\n",
    "#     # set up algorithm\n",
    "#     custom_vqe = CustomVQE(rt_estimator, ansatz_opt, optimizer, callback=callback_real)\n",
    "#     # run algorithm\n",
    "#     result = custom_vqe.compute_minimum_eigenvalue(ham_16)\n",
    "# end = time()\n",
    "# print(f'execution time (s): {end - start:.2f}')\n",
    "print(result)"
   ]
  },
  {
   "cell_type": "code",
   "execution_count": 39,
   "id": "a0a9c908-d6bf-4e6a-ac77-dc130c7667db",
   "metadata": {
    "tags": []
   },
   "outputs": [
    {
     "data": {
      "image/png": "[encoded data removed]",
      "text/plain": [
       "<Figure size 640x480 with 1 Axes>"
      ]
     },
     "metadata": {},
     "output_type": "display_data"
    }
   ],
   "source": [
    "plt.plot(intermediate_info_real_backend, color='purple', lw=2, label='VQE')\n",
    "plt.ylabel('Energy')\n",
    "plt.xlabel('Iterations')\n",
    "plt.axhline(y=gs_energy, color=\"tab:red\", ls=\"--\", lw=2, label=\"Target: \" + str(gs_energy))\n",
    "plt.legend()\n",
    "plt.grid()\n",
    "plt.show()"
   ]
  },
  {
   "cell_type": "markdown",
   "id": "1a924187-ad99-41ec-83f8-f8ac87a95750",
   "metadata": {},
   "source": [
    "## 3-3 Performance Score\n",
    "Compute the relative error between the expected ground state energy and the VQE result."
   ]
  },
  {
   "cell_type": "code",
   "execution_count": 137,
   "id": "46ef4ecd-547f-43d0-b184-e7f82680f50d",
   "metadata": {},
   "outputs": [
    {
     "name": "stdout",
     "output_type": "stream",
     "text": [
      "Expected ground state energy: -4.5000000000\n",
      "Computed ground state energy: -1.1372500000\n",
      "Relative error: 74.7277777778 %\n"
     ]
    }
   ],
   "source": [
    "# Compute the relative error between the expected ground state energy and the measured\n",
    "computed_gse = intermediate_info_real_backend[-1]\n",
    "\n",
    "print(f'Expected ground state energy: {gs_energy:.8f}')\n",
    "print(f'Computed ground state energy: {computed_gse:.8f}')\n",
    "print(f'Relative error: {100 * rel_err(gs_energy, computed_gse):.8f} %')"
   ]
  },
  {
   "cell_type": "markdown",
   "id": "355fe933-de34-4ce8-a6d8-11c00f6232f2",
   "metadata": {},
   "source": [
    "# Considerations\n",
    "Feeling stuck? Below are a list of questions and considerations to help spark new ideas for your VQE implementation.\n",
    "\n",
    "**Ansatz.** Carefully consult research literature for the best approach of ansatz selection. How might errors affect your ansatz? How many parameters are needed to reach the ground state? What properties of the Hamiltonian could help simplify the ansatz?\n",
    "\n",
    "**Classical optimizer.** What optimizer will pair well with for your choice of ansatz and measurement parameters? What noise do you expect from the quantum computer, and what noise sensitivity can the classical optimizer withstand? How many iterations will be needed?\n",
    "\n",
    "**Initial state/point.** Is there an initial quantum state that really helps things get going? What about a starting point for the circuit parameters? Does the VQE give the same results for different initial parameter values?\n",
    "\n",
    "**Number of measurements.** How does the number of shots affect the VQE's convergence to the ground state energy? The expectation value of the Hamiltonian is a sum of the expectation values of each of the 54 terms. What is the least number of circuit executions necessary to compute the expectation value of the Hamiltonian? What is the optimal number of circuit executions for stable convergence?\n",
    "\n",
    "**Many qubits.** Working with larger numbers of qubits is its own challenge. For example, what's a concise way of writing down or even visualizing the 4096 digit ground state? What methods and techniques will not scale well? What techniques would scale well if this VQE were to be done on a larger system? How can you reduce your execution time of the real device?\n",
    "\n",
    "**Error mitigation.** What errors are most prevalent, and how can you reduce them efficiently? What error mitigation techniques will scale well?"
   ]
  },
  {
   "cell_type": "code",
   "execution_count": 1,
   "id": "10a0d2c6-091a-439c-864a-8d791a39eec9",
   "metadata": {},
   "outputs": [
    {
     "data": {
      "text/plain": [
       "'0.7.0'"
      ]
     },
     "execution_count": 1,
     "metadata": {},
     "output_type": "execute_result"
    }
   ],
   "source": [
    "import qiskit_ibm_runtime\n",
    "qiskit_ibm_runtime.version.get_version_info()"
   ]
  },
  {
   "cell_type": "code",
   "execution_count": 2,
   "id": "6044f597-1557-4a1a-8f00-d22ce4ff3a10",
   "metadata": {},
   "outputs": [
    {
     "data": {
      "text/html": [
       "<h3>Version Information</h3><table><tr><th>Qiskit Software</th><th>Version</th></tr><tr><td><code>qiskit-terra</code></td><td>0.22.0</td></tr><tr><td><code>qiskit-aer</code></td><td>0.11.0</td></tr><tr><td><code>qiskit-ignis</code></td><td>0.7.0</td></tr><tr><td><code>qiskit-ibmq-provider</code></td><td>0.19.2</td></tr><tr><td><code>qiskit</code></td><td>0.39.0</td></tr><tr><td><code>qiskit-nature</code></td><td>0.4.0</td></tr><tr><td><code>qiskit-finance</code></td><td>0.3.4</td></tr><tr><td><code>qiskit-optimization</code></td><td>0.4.0</td></tr><tr><th>System information</th></tr><tr><td>Python version</td><td>3.8.8</td></tr><tr><td>Python compiler</td><td>Clang 10.0.0 </td></tr><tr><td>Python build</td><td>default, Apr 13 2021 12:59:45</td></tr><tr><td>OS</td><td>Darwin</td></tr><tr><td>CPUs</td><td>8</td></tr><tr><td>Memory (Gb)</td><td>64.0</td></tr><tr><td colspan='2'>Thu Oct 27 12:45:49 2022 EDT</td></tr></table>"
      ],
      "text/plain": [
       "<IPython.core.display.HTML object>"
      ]
     },
     "metadata": {},
     "output_type": "display_data"
    }
   ],
   "source": [
    "import qiskit.tools.jupyter\n",
    "%qiskit_version_table"
   ]
  }
 ],
 "metadata": {
  "kernelspec": {
   "display_name": "matrices",
   "language": "python",
   "name": "python3"
  },
  "language_info": {
   "codemirror_mode": {
    "name": "ipython",
    "version": 3
   },
   "file_extension": ".py",
   "mimetype": "text/x-python",
   "name": "python",
   "nbconvert_exporter": "python",
   "pygments_lexer": "ipython3",
   "version": "3.10.9"
  },
  "vscode": {
   "interpreter": {
    "hash": "878bb68c532a1307d125e69b6084af2bffbdbd5722a5ce6ea9aa6e30d0df02df"
   }
  },
  "widgets": {
   "application/vnd.jupyter.widget-state+json": {
    "state": {},
    "version_major": 2,
    "version_minor": 0
   }
  }
 },
 "nbformat": 4,
 "nbformat_minor": 5
}

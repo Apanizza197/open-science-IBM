{
 "cells": [
  {
   "cell_type": "code",
   "execution_count": 22,
   "metadata": {},
   "outputs": [],
   "source": [
    "from qiskit import QuantumCircuit, QuantumRegister, ClassicalRegister, transpile, Aer\n",
    "from qiskit.circuit.library import EfficientSU2\n",
    "from qiskit.providers.aer import QasmSimulator\n",
    "from qiskit.visualization import plot_histogram\n",
    "import numpy as np\n",
    "\n"
   ]
  },
  {
   "cell_type": "code",
   "execution_count": 23,
   "metadata": {},
   "outputs": [],
   "source": [
    "num_qubits = 12\n",
    "qc = QuantumCircuit(num_qubits)\n",
    "j = 0\n",
    "pi = np.pi\n",
    "angles = np.array([0.5, 1, 1.5, 1, 1.5, 1, 0.5, 1, 1.5, 1, 0.5, 1]) * pi\n",
    "\n",
    "\n",
    "for i in range(num_qubits):\n",
    "    qc.ry(angles[i], i)\n",
    "\n",
    "for qubit in range(num_qubits - 1):\n",
    "    qc.cnot(qubit, qubit+1)\n",
    "\n",
    "# qc.draw()\n",
    "\n"
   ]
  },
  {
   "cell_type": "code",
   "execution_count": 40,
   "metadata": {},
   "outputs": [
    {
     "data": {
      "text/html": [
       "<pre style=\"word-wrap: normal;white-space: pre;background: #fff0;line-height: 1.1;font-family: &quot;Courier New&quot;,Courier,monospace\">           ┌───┐                     ┌───┐  ┌────┐  ┌────────────┐┌────┐»\n",
       "q_0: ──────┤ X ├────────────■────────┤ X ├──┤ √X ├──┤ Rz(2.5261) ├┤ √X ├»\n",
       "     ┌────┐└─┬─┘┌────────┐  │  ┌────┐└─┬─┘┌─┴────┴─┐└────────────┘└────┘»\n",
       "q_1: ┤ √X ├──┼──┤ Rz(2π) ├──┼──┤ √X ├──┼──┤ Rz(3π) ├────────────────────»\n",
       "     └────┘  │  └────────┘┌─┴─┐└────┘  │  └─┬────┬─┘ ┌──────────┐ ┌────┐»\n",
       "q_2: ────────■────────────┤ X ├────────■────┤ √X ├───┤ Rz(5π/4) ├─┤ √X ├»\n",
       "                          └───┘             └────┘   └──────────┘ └────┘»\n",
       "«     ┌────────┐┌───┐┌────┐┌────────────┐┌────┐┌────────┐┌───┐                »\n",
       "«q_0: ┤ Rz(3π) ├┤ X ├┤ √X ├┤ Rz(3.7571) ├┤ √X ├┤ Rz(3π) ├┤ X ├──■────■────────»\n",
       "«     └────────┘└─┬─┘└────┘└────────────┘└────┘└────────┘└─┬─┘┌─┴─┐  │        »\n",
       "«q_1: ────────────■────────────────────────────────────────■──┤ X ├──┼────────»\n",
       "«     ┌────────┐                                              └───┘┌─┴─┐┌────┐»\n",
       "«q_2: ┤ Rz(3π) ├───────────────────────────────────────────────────┤ X ├┤ √X ├»\n",
       "«     └────────┘                                                   └───┘└────┘»\n",
       "«                                      ┌───┐\n",
       "«q_0: ──────────────────────────────■──┤ X ├\n",
       "«                                   │  └─┬─┘\n",
       "«q_1: ──────────────────────────────┼────┼──\n",
       "«     ┌──────────┐┌────┐┌────────┐┌─┴─┐  │  \n",
       "«q_2: ┤ Rz(3π/4) ├┤ √X ├┤ Rz(3π) ├┤ X ├──■──\n",
       "«     └──────────┘└────┘└────────┘└───┘     </pre>"
      ],
      "text/plain": [
       "           ┌───┐                     ┌───┐  ┌────┐  ┌────────────┐┌────┐»\n",
       "q_0: ──────┤ X ├────────────■────────┤ X ├──┤ √X ├──┤ Rz(2.5261) ├┤ √X ├»\n",
       "     ┌────┐└─┬─┘┌────────┐  │  ┌────┐└─┬─┘┌─┴────┴─┐└────────────┘└────┘»\n",
       "q_1: ┤ √X ├──┼──┤ Rz(2π) ├──┼──┤ √X ├──┼──┤ Rz(3π) ├────────────────────»\n",
       "     └────┘  │  └────────┘┌─┴─┐└────┘  │  └─┬────┬─┘ ┌──────────┐ ┌────┐»\n",
       "q_2: ────────■────────────┤ X ├────────■────┤ √X ├───┤ Rz(5π/4) ├─┤ √X ├»\n",
       "                          └───┘             └────┘   └──────────┘ └────┘»\n",
       "«     ┌────────┐┌───┐┌────┐┌────────────┐┌────┐┌────────┐┌───┐                »\n",
       "«q_0: ┤ Rz(3π) ├┤ X ├┤ √X ├┤ Rz(3.7571) ├┤ √X ├┤ Rz(3π) ├┤ X ├──■────■────────»\n",
       "«     └────────┘└─┬─┘└────┘└────────────┘└────┘└────────┘└─┬─┘┌─┴─┐  │        »\n",
       "«q_1: ────────────■────────────────────────────────────────■──┤ X ├──┼────────»\n",
       "«     ┌────────┐                                              └───┘┌─┴─┐┌────┐»\n",
       "«q_2: ┤ Rz(3π) ├───────────────────────────────────────────────────┤ X ├┤ √X ├»\n",
       "«     └────────┘                                                   └───┘└────┘»\n",
       "«                                      ┌───┐\n",
       "«q_0: ──────────────────────────────■──┤ X ├\n",
       "«                                   │  └─┬─┘\n",
       "«q_1: ──────────────────────────────┼────┼──\n",
       "«     ┌──────────┐┌────┐┌────────┐┌─┴─┐  │  \n",
       "«q_2: ┤ Rz(3π/4) ├┤ √X ├┤ Rz(3π) ├┤ X ├──■──\n",
       "«     └──────────┘└────┘└────────┘└───┘     "
      ]
     },
     "execution_count": 40,
     "metadata": {},
     "output_type": "execute_result"
    }
   ],
   "source": [
    "qasm_text = \"\"\"OPENQASM 2.0;\n",
    "include \"qelib1.inc\";\n",
    "qreg q[3];\n",
    "sx q[1];\n",
    "rz(2*pi) q[1];\n",
    "sx q[1];\n",
    "rz(3*pi) q[1];\n",
    "cx q[2],q[0];\n",
    "cx q[0],q[2];\n",
    "cx q[2],q[0];\n",
    "sx q[2];\n",
    "rz(5*pi/4) q[2];\n",
    "sx q[2];\n",
    "rz(3*pi) q[2];\n",
    "sx q[0];\n",
    "rz(2.52611294491941) q[0];\n",
    "sx q[0];\n",
    "rz(3*pi) q[0];\n",
    "cx q[1],q[0];\n",
    "sx q[0];\n",
    "rz(3.75707236226018) q[0];\n",
    "sx q[0];\n",
    "rz(3*pi) q[0];\n",
    "cx q[1],q[0];\n",
    "cx q[0],q[1];\n",
    "cx q[0],q[2];\n",
    "sx q[2];\n",
    "rz(3*pi/4) q[2];\n",
    "sx q[2];\n",
    "rz(3*pi) q[2];\n",
    "cx q[0],q[2];\n",
    "cx q[2],q[0];\n",
    "\"\"\"\n",
    "\n",
    "qc = QuantumCircuit.from_qasm_str(qasm_text)\n",
    "qc.draw()"
   ]
  },
  {
   "cell_type": "code",
   "execution_count": 41,
   "metadata": {},
   "outputs": [],
   "source": [
    "from qiskit import BasicAer, transpile\n",
    "\n",
    "backend = BasicAer.get_backend('statevector_simulator') # the device to run on\n",
    "result = backend.run(transpile(qc, backend)).result()\n",
    "psi  = result.get_statevector(qc)\n",
    "\n",
    "\n"
   ]
  },
  {
   "cell_type": "code",
   "execution_count": 44,
   "metadata": {},
   "outputs": [],
   "source": [
    "def to_bin(v):\n",
    "    coef_bin = []\n",
    "    large = np.log2(len(v))\n",
    "    for i in range(len(v)):\n",
    "        if abs(v[i])> 1e-5:\n",
    "            py_binario = bin(i)[2:]\n",
    "            binario = '0'*int((large - len(py_binario)))+py_binario\n",
    "            coef_bin += [(binario,v[i])] \n",
    "    return coef_bin\n"
   ]
  },
  {
   "cell_type": "code",
   "execution_count": 51,
   "metadata": {},
   "outputs": [
    {
     "data": {
      "text/plain": [
       "3.0"
      ]
     },
     "execution_count": 51,
     "metadata": {},
     "output_type": "execute_result"
    }
   ],
   "source": [
    "# np.linalg.norm(psi.real)\n",
    "# for coso in psi:\n",
    "#     print(coso.real)\n",
    "\n",
    "ham = np.array([[ 3.,  0.,  0.,  0.,  0.,  0.,  0.,  0.],\n",
    "       [ 0., -1.,  2.,  0.,  2.,  0.,  0.,  0.],\n",
    "       [ 0.,  2., -1.,  0.,  2.,  0.,  0.,  0.],\n",
    "       [ 0.,  0.,  0., -1.,  0.,  2.,  2.,  0.],\n",
    "       [ 0.,  2.,  2.,  0., -1.,  0.,  0.,  0.],\n",
    "       [ 0.,  0.,  0.,  2.,  0., -1.,  2.,  0.],\n",
    "       [ 0.,  0.,  0.,  2.,  0.,  2., -1.,  0.],\n",
    "       [ 0.,  0.,  0.,  0.,  0.,  0.,  0.,  3.]])\n",
    "\n",
    "\n",
    "np.dot(np.dot(psi, ham), psi).real\n",
    "\n",
    "\n",
    "#to_bin(psi)"
   ]
  },
  {
   "cell_type": "code",
   "execution_count": 24,
   "metadata": {},
   "outputs": [
    {
     "data": {
      "text/plain": [
       "(array([1365, 1366, 1369, 1370, 1381, 1382, 1385, 1386, 1429, 1430, 1433,\n",
       "        1434, 1445, 1446, 1449, 1450, 1621, 1622, 1625, 1626, 1637, 1638,\n",
       "        1641, 1642, 1685, 1686, 1689, 1690, 1701, 1702, 1705, 1706, 2389,\n",
       "        2390, 2393, 2394, 2405, 2406, 2409, 2410, 2453, 2454, 2457, 2458,\n",
       "        2469, 2470, 2473, 2474, 2645, 2646, 2649, 2650, 2661, 2662, 2665,\n",
       "        2666, 2709, 2710, 2713, 2714, 2725, 2726, 2729, 2730], dtype=int64),)"
      ]
     },
     "execution_count": 24,
     "metadata": {},
     "output_type": "execute_result"
    }
   ],
   "source": [
    "\n",
    "np.where(abs(psi) > 0 )"
   ]
  },
  {
   "attachments": {},
   "cell_type": "markdown",
   "metadata": {},
   "source": [
    "### Pruebas de ansatz\n"
   ]
  },
  {
   "cell_type": "code",
   "execution_count": 12,
   "metadata": {},
   "outputs": [
    {
     "data": {
      "text/html": [
       "<pre style=\"word-wrap: normal;white-space: pre;background: #fff0;line-height: 1.1;font-family: &quot;Courier New&quot;,Courier,monospace\">     ┌────────────────┐                  ┌───┐                       \n",
       "q_0: ┤ Ry(3.14159265) ├────────■─────────┤ X ├───────────────────────\n",
       "     └────────────────┘┌───────┴────────┐└─┬─┘                  ┌───┐\n",
       "q_1: ──────────────────┤ Ry(5.05222589) ├──■──────────■─────────┤ X ├\n",
       "                       └────────────────┘     ┌───────┴────────┐└─┬─┘\n",
       "q_2: ─────────────────────────────────────────┤ Ry(1.57079636) ├──■──\n",
       "                                              └────────────────┘     </pre>"
      ],
      "text/plain": [
       "     ┌────────────────┐                  ┌───┐                       \n",
       "q_0: ┤ Ry(3.14159265) ├────────■─────────┤ X ├───────────────────────\n",
       "     └────────────────┘┌───────┴────────┐└─┬─┘                  ┌───┐\n",
       "q_1: ──────────────────┤ Ry(5.05222589) ├──■──────────■─────────┤ X ├\n",
       "                       └────────────────┘     ┌───────┴────────┐└─┬─┘\n",
       "q_2: ─────────────────────────────────────────┤ Ry(1.57079636) ├──■──\n",
       "                                              └────────────────┘     "
      ]
     },
     "execution_count": 12,
     "metadata": {},
     "output_type": "execute_result"
    }
   ],
   "source": [
    "from qiskit import QuantumCircuit, QuantumRegister\n",
    "from qiskit.circuit import Parameter\n",
    "\n",
    "def create_ansatz_1(num_qubits, layers = 1):\n",
    "    qc = QuantumCircuit(num_qubits)\n",
    "\n",
    "    for qubit in range(0, num_qubits - (num_qubits % 2), 2):\n",
    "        qc.h(qubit)\n",
    "        qc.cnot(qubit, qubit+1)\n",
    "\n",
    "    j = 0\n",
    "    for layer in range(layers):\n",
    "        for qubit in range(num_qubits):\n",
    "            qc.ry(Parameter('θ_' + str(j)), qubit)\n",
    "            j += 1\n",
    "        for qubit in range(num_qubits - 1):\n",
    "            qc.cnot(qubit, qubit+1)\n",
    "    return qc\n",
    "\n",
    "def create_ansatz_2(num_qubits, layers = 1):\n",
    "    qc = QuantumCircuit(num_qubits)\n",
    "    j = 0\n",
    "    for qubit in range(num_qubits):\n",
    "            qc.ry(Parameter('θ_' + str(j)), qubit)\n",
    "            j += 1\n",
    "    for layer in range(layers):\n",
    "        for qubit in range(num_qubits - 1):\n",
    "            qc.cnot(qubit, qubit+1)\n",
    "        for qubit in range(num_qubits):\n",
    "            qc.ry(Parameter('θ_' + str(j)), qubit)\n",
    "            j += 1\n",
    "       \n",
    "    return qc\n",
    "\n",
    "def create_ansatz_3(num_qubits, layers = 1):\n",
    "    qc = QuantumCircuit(num_qubits)\n",
    "    j = 0\n",
    "    for qubit in range(num_qubits):\n",
    "            qc.ry(Parameter('θ_' + str(j)), qubit)\n",
    "            j += 1\n",
    "    for layer in range(layers):\n",
    "        for qubit in range(0, (num_qubits % 2), 2):\n",
    "            qc.h(qubit)\n",
    "            qc.cnot(qubit, qubit+1)\n",
    "        for qubit in range(num_qubits):\n",
    "            qc.ry(Parameter('θ_' + str(j)), qubit)\n",
    "            j += 1\n",
    "       \n",
    "    return qc\n",
    "\n",
    "# ANSATZ 4 ES EL QUE ESTAMOS USANDO EN EL PRIMER CASO\n",
    "# RY CX\n",
    "def create_ansatz_4(num_qubits, layers = 1):\n",
    "    qc = QuantumCircuit(num_qubits)\n",
    "    j = 0\n",
    "    for layer in range(layers):\n",
    "        for qubit in range(num_qubits):\n",
    "            qc.ry(Parameter('θ_' + str(j)), qubit)\n",
    "            j += 1\n",
    "        for qubit in range(num_qubits -1):\n",
    "            qc.cnot(qubit, qubit+1)\n",
    "        \n",
    "    return qc\n",
    "\n",
    "# Controlled RY\n",
    "num_qubits = 3\n",
    "layers = 2\n",
    "\n",
    "def create_ansatz_cry(num_qubits, layers = 1):\n",
    "    qc = QuantumCircuit(num_qubits)\n",
    "    j = 0\n",
    "    for layer in range(layers):\n",
    "        qc.ry(Parameter('θ_' + str(j)), 0)\n",
    "        j += 1\n",
    "\n",
    "        for qubit in range(1, num_qubits):\n",
    "            qc.cry(Parameter('θ_' + str(j)), qubit - 1, qubit)\n",
    "            j += 1\n",
    "    return qc\n",
    "\n",
    "def create_ansatz_cry_cnot(num_qubits, layers):\n",
    "    qc = QuantumCircuit(num_qubits)\n",
    "    j = 0\n",
    "    for layer in range(layers):\n",
    "        qc.ry(Parameter('θ_' + str(j)), 0)\n",
    "        j += 1\n",
    "\n",
    "        for qubit in range(1, num_qubits):\n",
    "            qc.cry(Parameter('θ_' + str(j)), qubit - 1, qubit)\n",
    "            qc.cnot(qubit, qubit -1)\n",
    "            j += 1\n",
    "    \n",
    "    return qc\n",
    "# qc = create_ansatz_cry(num_qubits)\n",
    "\n",
    "ansatz = create_ansatz_cry_cnot(3, 1)\n",
    "params = np.array([3.14159265, 5.05222589, 1.57079636])\n",
    "\n",
    "ansatz.draw()\n",
    "qc = ansatz.bind_parameters(params)\n",
    "qc.draw()\n",
    "\n"
   ]
  }
 ],
 "metadata": {
  "kernelspec": {
   "display_name": "matrices",
   "language": "python",
   "name": "python3"
  },
  "language_info": {
   "codemirror_mode": {
    "name": "ipython",
    "version": 3
   },
   "file_extension": ".py",
   "mimetype": "text/x-python",
   "name": "python",
   "nbconvert_exporter": "python",
   "pygments_lexer": "ipython3",
   "version": "3.10.9"
  },
  "orig_nbformat": 4,
  "vscode": {
   "interpreter": {
    "hash": "878bb68c532a1307d125e69b6084af2bffbdbd5722a5ce6ea9aa6e30d0df02df"
   }
  }
 },
 "nbformat": 4,
 "nbformat_minor": 2
}
